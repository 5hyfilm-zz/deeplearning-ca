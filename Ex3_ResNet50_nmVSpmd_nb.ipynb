{
  "nbformat": 4,
  "nbformat_minor": 0,
  "metadata": {
    "accelerator": "GPU",
    "colab": {
      "name": "Ex3_ResNet50_nmVSpmd_nb.ipynb",
      "provenance": [],
      "collapsed_sections": [],
      "toc_visible": true,
      "machine_shape": "hm",
      "include_colab_link": true
    },
    "kernelspec": {
      "display_name": "Python 3",
      "name": "python3"
    }
  },
  "cells": [
    {
      "cell_type": "markdown",
      "metadata": {
        "id": "view-in-github",
        "colab_type": "text"
      },
      "source": [
        "<a href=\"https://colab.research.google.com/github/fxlmer/AJPom_cancer/blob/main/Ex3_ResNet50_nmVSpmd_nb.ipynb\" target=\"_parent\"><img src=\"https://colab.research.google.com/assets/colab-badge.svg\" alt=\"Open In Colab\"/></a>"
      ]
    },
    {
      "cell_type": "markdown",
      "metadata": {
        "id": "RINOG_5H-9IS"
      },
      "source": [
        "# Check GPU"
      ]
    },
    {
      "cell_type": "code",
      "metadata": {
        "colab": {
          "base_uri": "https://localhost:8080/"
        },
        "id": "MswTOFVD9PRU",
        "outputId": "481f8f9c-c492-43c8-bbb5-b185bab8a587"
      },
      "source": [
        "!nvidia-smi"
      ],
      "execution_count": null,
      "outputs": [
        {
          "output_type": "stream",
          "text": [
            "Tue Apr  6 07:51:07 2021       \n",
            "+-----------------------------------------------------------------------------+\n",
            "| NVIDIA-SMI 460.67       Driver Version: 460.32.03    CUDA Version: 11.2     |\n",
            "|-------------------------------+----------------------+----------------------+\n",
            "| GPU  Name        Persistence-M| Bus-Id        Disp.A | Volatile Uncorr. ECC |\n",
            "| Fan  Temp  Perf  Pwr:Usage/Cap|         Memory-Usage | GPU-Util  Compute M. |\n",
            "|                               |                      |               MIG M. |\n",
            "|===============================+======================+======================|\n",
            "|   0  Tesla P100-PCIE...  Off  | 00000000:00:04.0 Off |                    0 |\n",
            "| N/A   36C    P0    25W / 250W |      0MiB / 16280MiB |      0%      Default |\n",
            "|                               |                      |                  N/A |\n",
            "+-------------------------------+----------------------+----------------------+\n",
            "                                                                               \n",
            "+-----------------------------------------------------------------------------+\n",
            "| Processes:                                                                  |\n",
            "|  GPU   GI   CI        PID   Type   Process name                  GPU Memory |\n",
            "|        ID   ID                                                   Usage      |\n",
            "|=============================================================================|\n",
            "|  No running processes found                                                 |\n",
            "+-----------------------------------------------------------------------------+\n"
          ],
          "name": "stdout"
        }
      ]
    },
    {
      "cell_type": "markdown",
      "metadata": {
        "id": "zJO_QzGJ_AV5"
      },
      "source": [
        "# Import Libraries"
      ]
    },
    {
      "cell_type": "code",
      "metadata": {
        "colab": {
          "base_uri": "https://localhost:8080/"
        },
        "id": "R_IjxTB8-7n7",
        "outputId": "893d6090-fba9-4382-b11b-d7ac9185ee08"
      },
      "source": [
        "import tensorflow as tf\n",
        "from tensorflow import keras\n",
        "from tensorflow.keras import backend as K\n",
        "from tensorflow.keras import models\n",
        "from tensorflow.keras.models import Sequential, Model\n",
        "from tensorflow.keras.layers import Conv2D, MaxPooling2D, Dense, Dropout, Activation, Flatten, BatchNormalization, GlobalAveragePooling2D\n",
        "from tensorflow.keras.preprocessing import image\n",
        "from tensorflow.keras.preprocessing.image import ImageDataGenerator, load_img, img_to_array\n",
        "from tensorflow.keras.applications.imagenet_utils import preprocess_input\n",
        "from tensorflow.keras.optimizers import Adam\n",
        "from tensorflow.keras.callbacks import ModelCheckpoint, EarlyStopping, ReduceLROnPlateau\n",
        "from tensorflow.keras import regularizers\n",
        "from tensorflow.keras.utils import Sequence\n",
        "from imblearn.over_sampling import RandomOverSampler\n",
        "from imblearn.keras import balanced_batch_generator\n",
        "\n",
        "from sklearn.model_selection import train_test_split\n",
        "from sklearn.utils import class_weight, compute_sample_weight, compute_class_weight\n",
        "from sklearn.metrics import balanced_accuracy_score, classification_report, confusion_matrix\n",
        "\n",
        "import pandas as pd\n",
        "import numpy as np\n",
        "import os\n",
        "import shutil\n",
        "import math\n",
        "import itertools\n",
        "from PIL import Image\n",
        "from matplotlib import pyplot as plt\n",
        "\n",
        "from Ex2_DenseNet121_nmVSpmd_utils import *"
      ],
      "execution_count": null,
      "outputs": [
        {
          "output_type": "stream",
          "text": [
            "/usr/local/lib/python3.7/dist-packages/sklearn/externals/six.py:31: FutureWarning: The module is deprecated in version 0.21 and will be removed in version 0.23 since we've dropped support for Python 2.7. Please rely on the official version of six (https://pypi.org/project/six/).\n",
            "  \"(https://pypi.org/project/six/).\", FutureWarning)\n",
            "/usr/local/lib/python3.7/dist-packages/sklearn/utils/deprecation.py:144: FutureWarning: The sklearn.neighbors.base module is  deprecated in version 0.22 and will be removed in version 0.24. The corresponding classes / functions should instead be imported from sklearn.neighbors. Anything that cannot be imported from sklearn.neighbors is now part of the private API.\n",
            "  warnings.warn(message, FutureWarning)\n",
            "/usr/local/lib/python3.7/dist-packages/sklearn/utils/deprecation.py:144: FutureWarning: The sklearn.utils.testing module is  deprecated in version 0.22 and will be removed in version 0.24. The corresponding classes / functions should instead be imported from sklearn.utils. Anything that cannot be imported from sklearn.utils is now part of the private API.\n",
            "  warnings.warn(message, FutureWarning)\n"
          ],
          "name": "stderr"
        }
      ]
    },
    {
      "cell_type": "code",
      "metadata": {
        "id": "MHSgpNBY_JuB"
      },
      "source": [
        "tf.compat.v1.disable_eager_execution()"
      ],
      "execution_count": null,
      "outputs": []
    },
    {
      "cell_type": "markdown",
      "metadata": {
        "id": "oprBHG9W_EJ6"
      },
      "source": [
        "# Hyperparameters"
      ]
    },
    {
      "cell_type": "code",
      "metadata": {
        "id": "_GlgYxS9_Fg_"
      },
      "source": [
        "IMG_WIDTH = 224\n",
        "IMG_HEIGHT = 224\n",
        "EPOCHS = 100\n",
        "BATCH_SIZE = 32\n",
        "NUM_CLASSES = 2\n",
        "\n",
        "LR = 1e-5 # Learning rate"
      ],
      "execution_count": null,
      "outputs": []
    },
    {
      "cell_type": "markdown",
      "metadata": {
        "id": "bXdVqDW-_XhC"
      },
      "source": [
        "# Data Preparation"
      ]
    },
    {
      "cell_type": "code",
      "metadata": {
        "colab": {
          "base_uri": "https://localhost:8080/"
        },
        "id": "tDDcIJz2_Lop",
        "outputId": "d08fff6c-e7c5-488b-bbc9-67f927fd511c"
      },
      "source": [
        "!git clone https://github.com/EvilPickle-PCSHSPT/AJPom_cancer_data"
      ],
      "execution_count": null,
      "outputs": [
        {
          "output_type": "stream",
          "text": [
            "fatal: destination path 'AJPom_cancer_data' already exists and is not an empty directory.\n"
          ],
          "name": "stdout"
        }
      ]
    },
    {
      "cell_type": "code",
      "metadata": {
        "id": "nGIYhihM_WR5"
      },
      "source": [
        "train_path = '/content/AJPom_cancer_data/nmVSpmd/split_images_clf/train' \n",
        "val_path = '/content/AJPom_cancer_data/nmVSpmd/split_images_clf/validate'\n",
        "test_path = '/content/AJPom_cancer_data/nmVSpmd/split_images_clf/test'"
      ],
      "execution_count": null,
      "outputs": []
    },
    {
      "cell_type": "markdown",
      "metadata": {
        "id": "MJlo6Rth_jfz"
      },
      "source": [
        "## Data Augmentation"
      ]
    },
    {
      "cell_type": "code",
      "metadata": {
        "id": "oZGD-ED9_k98"
      },
      "source": [
        "train_aug = ImageDataGenerator(rescale=1./255)\n",
        "\n",
        "val_aug = ImageDataGenerator(rescale=1./255)\n",
        "\n",
        "test_aug = ImageDataGenerator(rescale=1./255)"
      ],
      "execution_count": null,
      "outputs": []
    },
    {
      "cell_type": "code",
      "metadata": {
        "colab": {
          "base_uri": "https://localhost:8080/"
        },
        "id": "3ClIhYYQ_rdG",
        "outputId": "09e68737-f8ef-47e7-9d64-6a19446f42d3"
      },
      "source": [
        "train_generator = train_aug.flow_from_directory(train_path, \n",
        "                                                target_size=(IMG_WIDTH, IMG_HEIGHT), \n",
        "                                                batch_size=BATCH_SIZE, \n",
        "                                                shuffle=True,\n",
        "                                                class_mode='categorical') \n",
        "\n",
        "val_generator = val_aug.flow_from_directory(val_path, \n",
        "                                              target_size=(IMG_WIDTH, IMG_HEIGHT), \n",
        "                                              batch_size=BATCH_SIZE, \n",
        "                                              shuffle=True,\n",
        "                                              class_mode='categorical') \n",
        "\n",
        "test_generator = test_aug.flow_from_directory(test_path, \n",
        "                                               target_size=(IMG_WIDTH, IMG_HEIGHT), \n",
        "                                               batch_size=1, \n",
        "                                               shuffle=False,\n",
        "                                               class_mode=None)"
      ],
      "execution_count": null,
      "outputs": [
        {
          "output_type": "stream",
          "text": [
            "Found 425 images belonging to 2 classes.\n",
            "Found 61 images belonging to 2 classes.\n",
            "Found 122 images belonging to 2 classes.\n"
          ],
          "name": "stdout"
        }
      ]
    },
    {
      "cell_type": "markdown",
      "metadata": {
        "id": "-BMO2kcPIQQ5"
      },
      "source": [
        "# Model"
      ]
    },
    {
      "cell_type": "markdown",
      "metadata": {
        "id": "QEwDXXgtIWw_"
      },
      "source": [
        "## Build Model"
      ]
    },
    {
      "cell_type": "code",
      "metadata": {
        "id": "nkJR0LhxDxSW"
      },
      "source": [
        "def build_model_ResNet50():\n",
        "  base_model = tf.keras.applications.ResNet50V2(include_top=False, input_shape=(IMG_WIDTH, IMG_HEIGHT, 3), weights='imagenet')\n",
        "  average_pooling_layer = GlobalAveragePooling2D()(base_model.output)\n",
        "  # dense1 = Dense(1024, activation='relu', kernel_regularizer=regularizers.l2(0.01))(average_pooling_layer)\n",
        "  # # dense2 = Dense(512, activation='relu', kernel_regularizer=regularizers.l2(0.01))(dense1)\n",
        "  # dense3 = Dense(256, activation='relu', kernel_regularizer=regularizers.l2(0.01))(dense1)\n",
        "  # dense4 = Dense(128, activation='relu', kernel_regularizer=regularizers.l2(0.01))(dense3)\n",
        "  # dense5 = Dense(64, activation='relu', kernel_regularizer=regularizers.l2(0.01))(dense4)\n",
        "  # dropout1 = Dropout(0.5)(dense5)\n",
        "  prediction_layer = Dense(units=NUM_CLASSES, activation='softmax', name='prediction')(average_pooling_layer)\n",
        "  model = tf.keras.models.Model(inputs=base_model.input, outputs=prediction_layer)\n",
        "  return model"
      ],
      "execution_count": null,
      "outputs": []
    },
    {
      "cell_type": "code",
      "metadata": {
        "colab": {
          "base_uri": "https://localhost:8080/"
        },
        "id": "q-aVy0TGD9_P",
        "outputId": "d007d662-24e6-4429-8d41-f19a51647e2e"
      },
      "source": [
        "model = build_model_ResNet50()"
      ],
      "execution_count": null,
      "outputs": [
        {
          "output_type": "stream",
          "text": [
            "Downloading data from https://storage.googleapis.com/tensorflow/keras-applications/resnet/resnet50v2_weights_tf_dim_ordering_tf_kernels_notop.h5\n",
            "94674944/94668760 [==============================] - 2s 0us/step\n"
          ],
          "name": "stdout"
        }
      ]
    },
    {
      "cell_type": "code",
      "metadata": {
        "colab": {
          "base_uri": "https://localhost:8080/"
        },
        "id": "wyYWzhj-EBYt",
        "outputId": "3f0a4d5f-a3f1-425a-dae6-5f6259e848d2"
      },
      "source": [
        "model.summary()"
      ],
      "execution_count": null,
      "outputs": [
        {
          "output_type": "stream",
          "text": [
            "Model: \"model\"\n",
            "__________________________________________________________________________________________________\n",
            "Layer (type)                    Output Shape         Param #     Connected to                     \n",
            "==================================================================================================\n",
            "input_1 (InputLayer)            [(None, 224, 224, 3) 0                                            \n",
            "__________________________________________________________________________________________________\n",
            "conv1_pad (ZeroPadding2D)       (None, 230, 230, 3)  0           input_1[0][0]                    \n",
            "__________________________________________________________________________________________________\n",
            "conv1_conv (Conv2D)             (None, 112, 112, 64) 9472        conv1_pad[0][0]                  \n",
            "__________________________________________________________________________________________________\n",
            "pool1_pad (ZeroPadding2D)       (None, 114, 114, 64) 0           conv1_conv[0][0]                 \n",
            "__________________________________________________________________________________________________\n",
            "pool1_pool (MaxPooling2D)       (None, 56, 56, 64)   0           pool1_pad[0][0]                  \n",
            "__________________________________________________________________________________________________\n",
            "conv2_block1_preact_bn (BatchNo (None, 56, 56, 64)   256         pool1_pool[0][0]                 \n",
            "__________________________________________________________________________________________________\n",
            "conv2_block1_preact_relu (Activ (None, 56, 56, 64)   0           conv2_block1_preact_bn[0][0]     \n",
            "__________________________________________________________________________________________________\n",
            "conv2_block1_1_conv (Conv2D)    (None, 56, 56, 64)   4096        conv2_block1_preact_relu[0][0]   \n",
            "__________________________________________________________________________________________________\n",
            "conv2_block1_1_bn (BatchNormali (None, 56, 56, 64)   256         conv2_block1_1_conv[0][0]        \n",
            "__________________________________________________________________________________________________\n",
            "conv2_block1_1_relu (Activation (None, 56, 56, 64)   0           conv2_block1_1_bn[0][0]          \n",
            "__________________________________________________________________________________________________\n",
            "conv2_block1_2_pad (ZeroPadding (None, 58, 58, 64)   0           conv2_block1_1_relu[0][0]        \n",
            "__________________________________________________________________________________________________\n",
            "conv2_block1_2_conv (Conv2D)    (None, 56, 56, 64)   36864       conv2_block1_2_pad[0][0]         \n",
            "__________________________________________________________________________________________________\n",
            "conv2_block1_2_bn (BatchNormali (None, 56, 56, 64)   256         conv2_block1_2_conv[0][0]        \n",
            "__________________________________________________________________________________________________\n",
            "conv2_block1_2_relu (Activation (None, 56, 56, 64)   0           conv2_block1_2_bn[0][0]          \n",
            "__________________________________________________________________________________________________\n",
            "conv2_block1_0_conv (Conv2D)    (None, 56, 56, 256)  16640       conv2_block1_preact_relu[0][0]   \n",
            "__________________________________________________________________________________________________\n",
            "conv2_block1_3_conv (Conv2D)    (None, 56, 56, 256)  16640       conv2_block1_2_relu[0][0]        \n",
            "__________________________________________________________________________________________________\n",
            "conv2_block1_out (Add)          (None, 56, 56, 256)  0           conv2_block1_0_conv[0][0]        \n",
            "                                                                 conv2_block1_3_conv[0][0]        \n",
            "__________________________________________________________________________________________________\n",
            "conv2_block2_preact_bn (BatchNo (None, 56, 56, 256)  1024        conv2_block1_out[0][0]           \n",
            "__________________________________________________________________________________________________\n",
            "conv2_block2_preact_relu (Activ (None, 56, 56, 256)  0           conv2_block2_preact_bn[0][0]     \n",
            "__________________________________________________________________________________________________\n",
            "conv2_block2_1_conv (Conv2D)    (None, 56, 56, 64)   16384       conv2_block2_preact_relu[0][0]   \n",
            "__________________________________________________________________________________________________\n",
            "conv2_block2_1_bn (BatchNormali (None, 56, 56, 64)   256         conv2_block2_1_conv[0][0]        \n",
            "__________________________________________________________________________________________________\n",
            "conv2_block2_1_relu (Activation (None, 56, 56, 64)   0           conv2_block2_1_bn[0][0]          \n",
            "__________________________________________________________________________________________________\n",
            "conv2_block2_2_pad (ZeroPadding (None, 58, 58, 64)   0           conv2_block2_1_relu[0][0]        \n",
            "__________________________________________________________________________________________________\n",
            "conv2_block2_2_conv (Conv2D)    (None, 56, 56, 64)   36864       conv2_block2_2_pad[0][0]         \n",
            "__________________________________________________________________________________________________\n",
            "conv2_block2_2_bn (BatchNormali (None, 56, 56, 64)   256         conv2_block2_2_conv[0][0]        \n",
            "__________________________________________________________________________________________________\n",
            "conv2_block2_2_relu (Activation (None, 56, 56, 64)   0           conv2_block2_2_bn[0][0]          \n",
            "__________________________________________________________________________________________________\n",
            "conv2_block2_3_conv (Conv2D)    (None, 56, 56, 256)  16640       conv2_block2_2_relu[0][0]        \n",
            "__________________________________________________________________________________________________\n",
            "conv2_block2_out (Add)          (None, 56, 56, 256)  0           conv2_block1_out[0][0]           \n",
            "                                                                 conv2_block2_3_conv[0][0]        \n",
            "__________________________________________________________________________________________________\n",
            "conv2_block3_preact_bn (BatchNo (None, 56, 56, 256)  1024        conv2_block2_out[0][0]           \n",
            "__________________________________________________________________________________________________\n",
            "conv2_block3_preact_relu (Activ (None, 56, 56, 256)  0           conv2_block3_preact_bn[0][0]     \n",
            "__________________________________________________________________________________________________\n",
            "conv2_block3_1_conv (Conv2D)    (None, 56, 56, 64)   16384       conv2_block3_preact_relu[0][0]   \n",
            "__________________________________________________________________________________________________\n",
            "conv2_block3_1_bn (BatchNormali (None, 56, 56, 64)   256         conv2_block3_1_conv[0][0]        \n",
            "__________________________________________________________________________________________________\n",
            "conv2_block3_1_relu (Activation (None, 56, 56, 64)   0           conv2_block3_1_bn[0][0]          \n",
            "__________________________________________________________________________________________________\n",
            "conv2_block3_2_pad (ZeroPadding (None, 58, 58, 64)   0           conv2_block3_1_relu[0][0]        \n",
            "__________________________________________________________________________________________________\n",
            "conv2_block3_2_conv (Conv2D)    (None, 28, 28, 64)   36864       conv2_block3_2_pad[0][0]         \n",
            "__________________________________________________________________________________________________\n",
            "conv2_block3_2_bn (BatchNormali (None, 28, 28, 64)   256         conv2_block3_2_conv[0][0]        \n",
            "__________________________________________________________________________________________________\n",
            "conv2_block3_2_relu (Activation (None, 28, 28, 64)   0           conv2_block3_2_bn[0][0]          \n",
            "__________________________________________________________________________________________________\n",
            "max_pooling2d (MaxPooling2D)    (None, 28, 28, 256)  0           conv2_block2_out[0][0]           \n",
            "__________________________________________________________________________________________________\n",
            "conv2_block3_3_conv (Conv2D)    (None, 28, 28, 256)  16640       conv2_block3_2_relu[0][0]        \n",
            "__________________________________________________________________________________________________\n",
            "conv2_block3_out (Add)          (None, 28, 28, 256)  0           max_pooling2d[0][0]              \n",
            "                                                                 conv2_block3_3_conv[0][0]        \n",
            "__________________________________________________________________________________________________\n",
            "conv3_block1_preact_bn (BatchNo (None, 28, 28, 256)  1024        conv2_block3_out[0][0]           \n",
            "__________________________________________________________________________________________________\n",
            "conv3_block1_preact_relu (Activ (None, 28, 28, 256)  0           conv3_block1_preact_bn[0][0]     \n",
            "__________________________________________________________________________________________________\n",
            "conv3_block1_1_conv (Conv2D)    (None, 28, 28, 128)  32768       conv3_block1_preact_relu[0][0]   \n",
            "__________________________________________________________________________________________________\n",
            "conv3_block1_1_bn (BatchNormali (None, 28, 28, 128)  512         conv3_block1_1_conv[0][0]        \n",
            "__________________________________________________________________________________________________\n",
            "conv3_block1_1_relu (Activation (None, 28, 28, 128)  0           conv3_block1_1_bn[0][0]          \n",
            "__________________________________________________________________________________________________\n",
            "conv3_block1_2_pad (ZeroPadding (None, 30, 30, 128)  0           conv3_block1_1_relu[0][0]        \n",
            "__________________________________________________________________________________________________\n",
            "conv3_block1_2_conv (Conv2D)    (None, 28, 28, 128)  147456      conv3_block1_2_pad[0][0]         \n",
            "__________________________________________________________________________________________________\n",
            "conv3_block1_2_bn (BatchNormali (None, 28, 28, 128)  512         conv3_block1_2_conv[0][0]        \n",
            "__________________________________________________________________________________________________\n",
            "conv3_block1_2_relu (Activation (None, 28, 28, 128)  0           conv3_block1_2_bn[0][0]          \n",
            "__________________________________________________________________________________________________\n",
            "conv3_block1_0_conv (Conv2D)    (None, 28, 28, 512)  131584      conv3_block1_preact_relu[0][0]   \n",
            "__________________________________________________________________________________________________\n",
            "conv3_block1_3_conv (Conv2D)    (None, 28, 28, 512)  66048       conv3_block1_2_relu[0][0]        \n",
            "__________________________________________________________________________________________________\n",
            "conv3_block1_out (Add)          (None, 28, 28, 512)  0           conv3_block1_0_conv[0][0]        \n",
            "                                                                 conv3_block1_3_conv[0][0]        \n",
            "__________________________________________________________________________________________________\n",
            "conv3_block2_preact_bn (BatchNo (None, 28, 28, 512)  2048        conv3_block1_out[0][0]           \n",
            "__________________________________________________________________________________________________\n",
            "conv3_block2_preact_relu (Activ (None, 28, 28, 512)  0           conv3_block2_preact_bn[0][0]     \n",
            "__________________________________________________________________________________________________\n",
            "conv3_block2_1_conv (Conv2D)    (None, 28, 28, 128)  65536       conv3_block2_preact_relu[0][0]   \n",
            "__________________________________________________________________________________________________\n",
            "conv3_block2_1_bn (BatchNormali (None, 28, 28, 128)  512         conv3_block2_1_conv[0][0]        \n",
            "__________________________________________________________________________________________________\n",
            "conv3_block2_1_relu (Activation (None, 28, 28, 128)  0           conv3_block2_1_bn[0][0]          \n",
            "__________________________________________________________________________________________________\n",
            "conv3_block2_2_pad (ZeroPadding (None, 30, 30, 128)  0           conv3_block2_1_relu[0][0]        \n",
            "__________________________________________________________________________________________________\n",
            "conv3_block2_2_conv (Conv2D)    (None, 28, 28, 128)  147456      conv3_block2_2_pad[0][0]         \n",
            "__________________________________________________________________________________________________\n",
            "conv3_block2_2_bn (BatchNormali (None, 28, 28, 128)  512         conv3_block2_2_conv[0][0]        \n",
            "__________________________________________________________________________________________________\n",
            "conv3_block2_2_relu (Activation (None, 28, 28, 128)  0           conv3_block2_2_bn[0][0]          \n",
            "__________________________________________________________________________________________________\n",
            "conv3_block2_3_conv (Conv2D)    (None, 28, 28, 512)  66048       conv3_block2_2_relu[0][0]        \n",
            "__________________________________________________________________________________________________\n",
            "conv3_block2_out (Add)          (None, 28, 28, 512)  0           conv3_block1_out[0][0]           \n",
            "                                                                 conv3_block2_3_conv[0][0]        \n",
            "__________________________________________________________________________________________________\n",
            "conv3_block3_preact_bn (BatchNo (None, 28, 28, 512)  2048        conv3_block2_out[0][0]           \n",
            "__________________________________________________________________________________________________\n",
            "conv3_block3_preact_relu (Activ (None, 28, 28, 512)  0           conv3_block3_preact_bn[0][0]     \n",
            "__________________________________________________________________________________________________\n",
            "conv3_block3_1_conv (Conv2D)    (None, 28, 28, 128)  65536       conv3_block3_preact_relu[0][0]   \n",
            "__________________________________________________________________________________________________\n",
            "conv3_block3_1_bn (BatchNormali (None, 28, 28, 128)  512         conv3_block3_1_conv[0][0]        \n",
            "__________________________________________________________________________________________________\n",
            "conv3_block3_1_relu (Activation (None, 28, 28, 128)  0           conv3_block3_1_bn[0][0]          \n",
            "__________________________________________________________________________________________________\n",
            "conv3_block3_2_pad (ZeroPadding (None, 30, 30, 128)  0           conv3_block3_1_relu[0][0]        \n",
            "__________________________________________________________________________________________________\n",
            "conv3_block3_2_conv (Conv2D)    (None, 28, 28, 128)  147456      conv3_block3_2_pad[0][0]         \n",
            "__________________________________________________________________________________________________\n",
            "conv3_block3_2_bn (BatchNormali (None, 28, 28, 128)  512         conv3_block3_2_conv[0][0]        \n",
            "__________________________________________________________________________________________________\n",
            "conv3_block3_2_relu (Activation (None, 28, 28, 128)  0           conv3_block3_2_bn[0][0]          \n",
            "__________________________________________________________________________________________________\n",
            "conv3_block3_3_conv (Conv2D)    (None, 28, 28, 512)  66048       conv3_block3_2_relu[0][0]        \n",
            "__________________________________________________________________________________________________\n",
            "conv3_block3_out (Add)          (None, 28, 28, 512)  0           conv3_block2_out[0][0]           \n",
            "                                                                 conv3_block3_3_conv[0][0]        \n",
            "__________________________________________________________________________________________________\n",
            "conv3_block4_preact_bn (BatchNo (None, 28, 28, 512)  2048        conv3_block3_out[0][0]           \n",
            "__________________________________________________________________________________________________\n",
            "conv3_block4_preact_relu (Activ (None, 28, 28, 512)  0           conv3_block4_preact_bn[0][0]     \n",
            "__________________________________________________________________________________________________\n",
            "conv3_block4_1_conv (Conv2D)    (None, 28, 28, 128)  65536       conv3_block4_preact_relu[0][0]   \n",
            "__________________________________________________________________________________________________\n",
            "conv3_block4_1_bn (BatchNormali (None, 28, 28, 128)  512         conv3_block4_1_conv[0][0]        \n",
            "__________________________________________________________________________________________________\n",
            "conv3_block4_1_relu (Activation (None, 28, 28, 128)  0           conv3_block4_1_bn[0][0]          \n",
            "__________________________________________________________________________________________________\n",
            "conv3_block4_2_pad (ZeroPadding (None, 30, 30, 128)  0           conv3_block4_1_relu[0][0]        \n",
            "__________________________________________________________________________________________________\n",
            "conv3_block4_2_conv (Conv2D)    (None, 14, 14, 128)  147456      conv3_block4_2_pad[0][0]         \n",
            "__________________________________________________________________________________________________\n",
            "conv3_block4_2_bn (BatchNormali (None, 14, 14, 128)  512         conv3_block4_2_conv[0][0]        \n",
            "__________________________________________________________________________________________________\n",
            "conv3_block4_2_relu (Activation (None, 14, 14, 128)  0           conv3_block4_2_bn[0][0]          \n",
            "__________________________________________________________________________________________________\n",
            "max_pooling2d_1 (MaxPooling2D)  (None, 14, 14, 512)  0           conv3_block3_out[0][0]           \n",
            "__________________________________________________________________________________________________\n",
            "conv3_block4_3_conv (Conv2D)    (None, 14, 14, 512)  66048       conv3_block4_2_relu[0][0]        \n",
            "__________________________________________________________________________________________________\n",
            "conv3_block4_out (Add)          (None, 14, 14, 512)  0           max_pooling2d_1[0][0]            \n",
            "                                                                 conv3_block4_3_conv[0][0]        \n",
            "__________________________________________________________________________________________________\n",
            "conv4_block1_preact_bn (BatchNo (None, 14, 14, 512)  2048        conv3_block4_out[0][0]           \n",
            "__________________________________________________________________________________________________\n",
            "conv4_block1_preact_relu (Activ (None, 14, 14, 512)  0           conv4_block1_preact_bn[0][0]     \n",
            "__________________________________________________________________________________________________\n",
            "conv4_block1_1_conv (Conv2D)    (None, 14, 14, 256)  131072      conv4_block1_preact_relu[0][0]   \n",
            "__________________________________________________________________________________________________\n",
            "conv4_block1_1_bn (BatchNormali (None, 14, 14, 256)  1024        conv4_block1_1_conv[0][0]        \n",
            "__________________________________________________________________________________________________\n",
            "conv4_block1_1_relu (Activation (None, 14, 14, 256)  0           conv4_block1_1_bn[0][0]          \n",
            "__________________________________________________________________________________________________\n",
            "conv4_block1_2_pad (ZeroPadding (None, 16, 16, 256)  0           conv4_block1_1_relu[0][0]        \n",
            "__________________________________________________________________________________________________\n",
            "conv4_block1_2_conv (Conv2D)    (None, 14, 14, 256)  589824      conv4_block1_2_pad[0][0]         \n",
            "__________________________________________________________________________________________________\n",
            "conv4_block1_2_bn (BatchNormali (None, 14, 14, 256)  1024        conv4_block1_2_conv[0][0]        \n",
            "__________________________________________________________________________________________________\n",
            "conv4_block1_2_relu (Activation (None, 14, 14, 256)  0           conv4_block1_2_bn[0][0]          \n",
            "__________________________________________________________________________________________________\n",
            "conv4_block1_0_conv (Conv2D)    (None, 14, 14, 1024) 525312      conv4_block1_preact_relu[0][0]   \n",
            "__________________________________________________________________________________________________\n",
            "conv4_block1_3_conv (Conv2D)    (None, 14, 14, 1024) 263168      conv4_block1_2_relu[0][0]        \n",
            "__________________________________________________________________________________________________\n",
            "conv4_block1_out (Add)          (None, 14, 14, 1024) 0           conv4_block1_0_conv[0][0]        \n",
            "                                                                 conv4_block1_3_conv[0][0]        \n",
            "__________________________________________________________________________________________________\n",
            "conv4_block2_preact_bn (BatchNo (None, 14, 14, 1024) 4096        conv4_block1_out[0][0]           \n",
            "__________________________________________________________________________________________________\n",
            "conv4_block2_preact_relu (Activ (None, 14, 14, 1024) 0           conv4_block2_preact_bn[0][0]     \n",
            "__________________________________________________________________________________________________\n",
            "conv4_block2_1_conv (Conv2D)    (None, 14, 14, 256)  262144      conv4_block2_preact_relu[0][0]   \n",
            "__________________________________________________________________________________________________\n",
            "conv4_block2_1_bn (BatchNormali (None, 14, 14, 256)  1024        conv4_block2_1_conv[0][0]        \n",
            "__________________________________________________________________________________________________\n",
            "conv4_block2_1_relu (Activation (None, 14, 14, 256)  0           conv4_block2_1_bn[0][0]          \n",
            "__________________________________________________________________________________________________\n",
            "conv4_block2_2_pad (ZeroPadding (None, 16, 16, 256)  0           conv4_block2_1_relu[0][0]        \n",
            "__________________________________________________________________________________________________\n",
            "conv4_block2_2_conv (Conv2D)    (None, 14, 14, 256)  589824      conv4_block2_2_pad[0][0]         \n",
            "__________________________________________________________________________________________________\n",
            "conv4_block2_2_bn (BatchNormali (None, 14, 14, 256)  1024        conv4_block2_2_conv[0][0]        \n",
            "__________________________________________________________________________________________________\n",
            "conv4_block2_2_relu (Activation (None, 14, 14, 256)  0           conv4_block2_2_bn[0][0]          \n",
            "__________________________________________________________________________________________________\n",
            "conv4_block2_3_conv (Conv2D)    (None, 14, 14, 1024) 263168      conv4_block2_2_relu[0][0]        \n",
            "__________________________________________________________________________________________________\n",
            "conv4_block2_out (Add)          (None, 14, 14, 1024) 0           conv4_block1_out[0][0]           \n",
            "                                                                 conv4_block2_3_conv[0][0]        \n",
            "__________________________________________________________________________________________________\n",
            "conv4_block3_preact_bn (BatchNo (None, 14, 14, 1024) 4096        conv4_block2_out[0][0]           \n",
            "__________________________________________________________________________________________________\n",
            "conv4_block3_preact_relu (Activ (None, 14, 14, 1024) 0           conv4_block3_preact_bn[0][0]     \n",
            "__________________________________________________________________________________________________\n",
            "conv4_block3_1_conv (Conv2D)    (None, 14, 14, 256)  262144      conv4_block3_preact_relu[0][0]   \n",
            "__________________________________________________________________________________________________\n",
            "conv4_block3_1_bn (BatchNormali (None, 14, 14, 256)  1024        conv4_block3_1_conv[0][0]        \n",
            "__________________________________________________________________________________________________\n",
            "conv4_block3_1_relu (Activation (None, 14, 14, 256)  0           conv4_block3_1_bn[0][0]          \n",
            "__________________________________________________________________________________________________\n",
            "conv4_block3_2_pad (ZeroPadding (None, 16, 16, 256)  0           conv4_block3_1_relu[0][0]        \n",
            "__________________________________________________________________________________________________\n",
            "conv4_block3_2_conv (Conv2D)    (None, 14, 14, 256)  589824      conv4_block3_2_pad[0][0]         \n",
            "__________________________________________________________________________________________________\n",
            "conv4_block3_2_bn (BatchNormali (None, 14, 14, 256)  1024        conv4_block3_2_conv[0][0]        \n",
            "__________________________________________________________________________________________________\n",
            "conv4_block3_2_relu (Activation (None, 14, 14, 256)  0           conv4_block3_2_bn[0][0]          \n",
            "__________________________________________________________________________________________________\n",
            "conv4_block3_3_conv (Conv2D)    (None, 14, 14, 1024) 263168      conv4_block3_2_relu[0][0]        \n",
            "__________________________________________________________________________________________________\n",
            "conv4_block3_out (Add)          (None, 14, 14, 1024) 0           conv4_block2_out[0][0]           \n",
            "                                                                 conv4_block3_3_conv[0][0]        \n",
            "__________________________________________________________________________________________________\n",
            "conv4_block4_preact_bn (BatchNo (None, 14, 14, 1024) 4096        conv4_block3_out[0][0]           \n",
            "__________________________________________________________________________________________________\n",
            "conv4_block4_preact_relu (Activ (None, 14, 14, 1024) 0           conv4_block4_preact_bn[0][0]     \n",
            "__________________________________________________________________________________________________\n",
            "conv4_block4_1_conv (Conv2D)    (None, 14, 14, 256)  262144      conv4_block4_preact_relu[0][0]   \n",
            "__________________________________________________________________________________________________\n",
            "conv4_block4_1_bn (BatchNormali (None, 14, 14, 256)  1024        conv4_block4_1_conv[0][0]        \n",
            "__________________________________________________________________________________________________\n",
            "conv4_block4_1_relu (Activation (None, 14, 14, 256)  0           conv4_block4_1_bn[0][0]          \n",
            "__________________________________________________________________________________________________\n",
            "conv4_block4_2_pad (ZeroPadding (None, 16, 16, 256)  0           conv4_block4_1_relu[0][0]        \n",
            "__________________________________________________________________________________________________\n",
            "conv4_block4_2_conv (Conv2D)    (None, 14, 14, 256)  589824      conv4_block4_2_pad[0][0]         \n",
            "__________________________________________________________________________________________________\n",
            "conv4_block4_2_bn (BatchNormali (None, 14, 14, 256)  1024        conv4_block4_2_conv[0][0]        \n",
            "__________________________________________________________________________________________________\n",
            "conv4_block4_2_relu (Activation (None, 14, 14, 256)  0           conv4_block4_2_bn[0][0]          \n",
            "__________________________________________________________________________________________________\n",
            "conv4_block4_3_conv (Conv2D)    (None, 14, 14, 1024) 263168      conv4_block4_2_relu[0][0]        \n",
            "__________________________________________________________________________________________________\n",
            "conv4_block4_out (Add)          (None, 14, 14, 1024) 0           conv4_block3_out[0][0]           \n",
            "                                                                 conv4_block4_3_conv[0][0]        \n",
            "__________________________________________________________________________________________________\n",
            "conv4_block5_preact_bn (BatchNo (None, 14, 14, 1024) 4096        conv4_block4_out[0][0]           \n",
            "__________________________________________________________________________________________________\n",
            "conv4_block5_preact_relu (Activ (None, 14, 14, 1024) 0           conv4_block5_preact_bn[0][0]     \n",
            "__________________________________________________________________________________________________\n",
            "conv4_block5_1_conv (Conv2D)    (None, 14, 14, 256)  262144      conv4_block5_preact_relu[0][0]   \n",
            "__________________________________________________________________________________________________\n",
            "conv4_block5_1_bn (BatchNormali (None, 14, 14, 256)  1024        conv4_block5_1_conv[0][0]        \n",
            "__________________________________________________________________________________________________\n",
            "conv4_block5_1_relu (Activation (None, 14, 14, 256)  0           conv4_block5_1_bn[0][0]          \n",
            "__________________________________________________________________________________________________\n",
            "conv4_block5_2_pad (ZeroPadding (None, 16, 16, 256)  0           conv4_block5_1_relu[0][0]        \n",
            "__________________________________________________________________________________________________\n",
            "conv4_block5_2_conv (Conv2D)    (None, 14, 14, 256)  589824      conv4_block5_2_pad[0][0]         \n",
            "__________________________________________________________________________________________________\n",
            "conv4_block5_2_bn (BatchNormali (None, 14, 14, 256)  1024        conv4_block5_2_conv[0][0]        \n",
            "__________________________________________________________________________________________________\n",
            "conv4_block5_2_relu (Activation (None, 14, 14, 256)  0           conv4_block5_2_bn[0][0]          \n",
            "__________________________________________________________________________________________________\n",
            "conv4_block5_3_conv (Conv2D)    (None, 14, 14, 1024) 263168      conv4_block5_2_relu[0][0]        \n",
            "__________________________________________________________________________________________________\n",
            "conv4_block5_out (Add)          (None, 14, 14, 1024) 0           conv4_block4_out[0][0]           \n",
            "                                                                 conv4_block5_3_conv[0][0]        \n",
            "__________________________________________________________________________________________________\n",
            "conv4_block6_preact_bn (BatchNo (None, 14, 14, 1024) 4096        conv4_block5_out[0][0]           \n",
            "__________________________________________________________________________________________________\n",
            "conv4_block6_preact_relu (Activ (None, 14, 14, 1024) 0           conv4_block6_preact_bn[0][0]     \n",
            "__________________________________________________________________________________________________\n",
            "conv4_block6_1_conv (Conv2D)    (None, 14, 14, 256)  262144      conv4_block6_preact_relu[0][0]   \n",
            "__________________________________________________________________________________________________\n",
            "conv4_block6_1_bn (BatchNormali (None, 14, 14, 256)  1024        conv4_block6_1_conv[0][0]        \n",
            "__________________________________________________________________________________________________\n",
            "conv4_block6_1_relu (Activation (None, 14, 14, 256)  0           conv4_block6_1_bn[0][0]          \n",
            "__________________________________________________________________________________________________\n",
            "conv4_block6_2_pad (ZeroPadding (None, 16, 16, 256)  0           conv4_block6_1_relu[0][0]        \n",
            "__________________________________________________________________________________________________\n",
            "conv4_block6_2_conv (Conv2D)    (None, 7, 7, 256)    589824      conv4_block6_2_pad[0][0]         \n",
            "__________________________________________________________________________________________________\n",
            "conv4_block6_2_bn (BatchNormali (None, 7, 7, 256)    1024        conv4_block6_2_conv[0][0]        \n",
            "__________________________________________________________________________________________________\n",
            "conv4_block6_2_relu (Activation (None, 7, 7, 256)    0           conv4_block6_2_bn[0][0]          \n",
            "__________________________________________________________________________________________________\n",
            "max_pooling2d_2 (MaxPooling2D)  (None, 7, 7, 1024)   0           conv4_block5_out[0][0]           \n",
            "__________________________________________________________________________________________________\n",
            "conv4_block6_3_conv (Conv2D)    (None, 7, 7, 1024)   263168      conv4_block6_2_relu[0][0]        \n",
            "__________________________________________________________________________________________________\n",
            "conv4_block6_out (Add)          (None, 7, 7, 1024)   0           max_pooling2d_2[0][0]            \n",
            "                                                                 conv4_block6_3_conv[0][0]        \n",
            "__________________________________________________________________________________________________\n",
            "conv5_block1_preact_bn (BatchNo (None, 7, 7, 1024)   4096        conv4_block6_out[0][0]           \n",
            "__________________________________________________________________________________________________\n",
            "conv5_block1_preact_relu (Activ (None, 7, 7, 1024)   0           conv5_block1_preact_bn[0][0]     \n",
            "__________________________________________________________________________________________________\n",
            "conv5_block1_1_conv (Conv2D)    (None, 7, 7, 512)    524288      conv5_block1_preact_relu[0][0]   \n",
            "__________________________________________________________________________________________________\n",
            "conv5_block1_1_bn (BatchNormali (None, 7, 7, 512)    2048        conv5_block1_1_conv[0][0]        \n",
            "__________________________________________________________________________________________________\n",
            "conv5_block1_1_relu (Activation (None, 7, 7, 512)    0           conv5_block1_1_bn[0][0]          \n",
            "__________________________________________________________________________________________________\n",
            "conv5_block1_2_pad (ZeroPadding (None, 9, 9, 512)    0           conv5_block1_1_relu[0][0]        \n",
            "__________________________________________________________________________________________________\n",
            "conv5_block1_2_conv (Conv2D)    (None, 7, 7, 512)    2359296     conv5_block1_2_pad[0][0]         \n",
            "__________________________________________________________________________________________________\n",
            "conv5_block1_2_bn (BatchNormali (None, 7, 7, 512)    2048        conv5_block1_2_conv[0][0]        \n",
            "__________________________________________________________________________________________________\n",
            "conv5_block1_2_relu (Activation (None, 7, 7, 512)    0           conv5_block1_2_bn[0][0]          \n",
            "__________________________________________________________________________________________________\n",
            "conv5_block1_0_conv (Conv2D)    (None, 7, 7, 2048)   2099200     conv5_block1_preact_relu[0][0]   \n",
            "__________________________________________________________________________________________________\n",
            "conv5_block1_3_conv (Conv2D)    (None, 7, 7, 2048)   1050624     conv5_block1_2_relu[0][0]        \n",
            "__________________________________________________________________________________________________\n",
            "conv5_block1_out (Add)          (None, 7, 7, 2048)   0           conv5_block1_0_conv[0][0]        \n",
            "                                                                 conv5_block1_3_conv[0][0]        \n",
            "__________________________________________________________________________________________________\n",
            "conv5_block2_preact_bn (BatchNo (None, 7, 7, 2048)   8192        conv5_block1_out[0][0]           \n",
            "__________________________________________________________________________________________________\n",
            "conv5_block2_preact_relu (Activ (None, 7, 7, 2048)   0           conv5_block2_preact_bn[0][0]     \n",
            "__________________________________________________________________________________________________\n",
            "conv5_block2_1_conv (Conv2D)    (None, 7, 7, 512)    1048576     conv5_block2_preact_relu[0][0]   \n",
            "__________________________________________________________________________________________________\n",
            "conv5_block2_1_bn (BatchNormali (None, 7, 7, 512)    2048        conv5_block2_1_conv[0][0]        \n",
            "__________________________________________________________________________________________________\n",
            "conv5_block2_1_relu (Activation (None, 7, 7, 512)    0           conv5_block2_1_bn[0][0]          \n",
            "__________________________________________________________________________________________________\n",
            "conv5_block2_2_pad (ZeroPadding (None, 9, 9, 512)    0           conv5_block2_1_relu[0][0]        \n",
            "__________________________________________________________________________________________________\n",
            "conv5_block2_2_conv (Conv2D)    (None, 7, 7, 512)    2359296     conv5_block2_2_pad[0][0]         \n",
            "__________________________________________________________________________________________________\n",
            "conv5_block2_2_bn (BatchNormali (None, 7, 7, 512)    2048        conv5_block2_2_conv[0][0]        \n",
            "__________________________________________________________________________________________________\n",
            "conv5_block2_2_relu (Activation (None, 7, 7, 512)    0           conv5_block2_2_bn[0][0]          \n",
            "__________________________________________________________________________________________________\n",
            "conv5_block2_3_conv (Conv2D)    (None, 7, 7, 2048)   1050624     conv5_block2_2_relu[0][0]        \n",
            "__________________________________________________________________________________________________\n",
            "conv5_block2_out (Add)          (None, 7, 7, 2048)   0           conv5_block1_out[0][0]           \n",
            "                                                                 conv5_block2_3_conv[0][0]        \n",
            "__________________________________________________________________________________________________\n",
            "conv5_block3_preact_bn (BatchNo (None, 7, 7, 2048)   8192        conv5_block2_out[0][0]           \n",
            "__________________________________________________________________________________________________\n",
            "conv5_block3_preact_relu (Activ (None, 7, 7, 2048)   0           conv5_block3_preact_bn[0][0]     \n",
            "__________________________________________________________________________________________________\n",
            "conv5_block3_1_conv (Conv2D)    (None, 7, 7, 512)    1048576     conv5_block3_preact_relu[0][0]   \n",
            "__________________________________________________________________________________________________\n",
            "conv5_block3_1_bn (BatchNormali (None, 7, 7, 512)    2048        conv5_block3_1_conv[0][0]        \n",
            "__________________________________________________________________________________________________\n",
            "conv5_block3_1_relu (Activation (None, 7, 7, 512)    0           conv5_block3_1_bn[0][0]          \n",
            "__________________________________________________________________________________________________\n",
            "conv5_block3_2_pad (ZeroPadding (None, 9, 9, 512)    0           conv5_block3_1_relu[0][0]        \n",
            "__________________________________________________________________________________________________\n",
            "conv5_block3_2_conv (Conv2D)    (None, 7, 7, 512)    2359296     conv5_block3_2_pad[0][0]         \n",
            "__________________________________________________________________________________________________\n",
            "conv5_block3_2_bn (BatchNormali (None, 7, 7, 512)    2048        conv5_block3_2_conv[0][0]        \n",
            "__________________________________________________________________________________________________\n",
            "conv5_block3_2_relu (Activation (None, 7, 7, 512)    0           conv5_block3_2_bn[0][0]          \n",
            "__________________________________________________________________________________________________\n",
            "conv5_block3_3_conv (Conv2D)    (None, 7, 7, 2048)   1050624     conv5_block3_2_relu[0][0]        \n",
            "__________________________________________________________________________________________________\n",
            "conv5_block3_out (Add)          (None, 7, 7, 2048)   0           conv5_block2_out[0][0]           \n",
            "                                                                 conv5_block3_3_conv[0][0]        \n",
            "__________________________________________________________________________________________________\n",
            "post_bn (BatchNormalization)    (None, 7, 7, 2048)   8192        conv5_block3_out[0][0]           \n",
            "__________________________________________________________________________________________________\n",
            "post_relu (Activation)          (None, 7, 7, 2048)   0           post_bn[0][0]                    \n",
            "__________________________________________________________________________________________________\n",
            "global_average_pooling2d (Globa (None, 2048)         0           post_relu[0][0]                  \n",
            "__________________________________________________________________________________________________\n",
            "prediction (Dense)              (None, 2)            4098        global_average_pooling2d[0][0]   \n",
            "==================================================================================================\n",
            "Total params: 23,568,898\n",
            "Trainable params: 23,523,458\n",
            "Non-trainable params: 45,440\n",
            "__________________________________________________________________________________________________\n"
          ],
          "name": "stdout"
        }
      ]
    },
    {
      "cell_type": "markdown",
      "metadata": {
        "id": "TpKT2kx4EPnO"
      },
      "source": [
        "## Compile"
      ]
    },
    {
      "cell_type": "code",
      "metadata": {
        "id": "ifAvK2eEEMD_"
      },
      "source": [
        "model.compile(optimizer=Adam(LR), \n",
        "              loss='categorical_crossentropy',\n",
        "              metrics=['accuracy'])"
      ],
      "execution_count": null,
      "outputs": []
    },
    {
      "cell_type": "markdown",
      "metadata": {
        "id": "thaSAZvuERqw"
      },
      "source": [
        "## Callbacks"
      ]
    },
    {
      "cell_type": "code",
      "metadata": {
        "id": "mSIeFF95Ma_t"
      },
      "source": [
        "early_stop = EarlyStopping(monitor='val_loss', patience=10, verbose=0, mode='min')\n",
        "\n",
        "model_checkpoint = ModelCheckpoint(filepath='Ex3_ResNet50_nmVSpmd_model.h5', save_best_only=True, monitor='val_loss', mode='min')\n",
        "\n",
        "reduce_lr_rate = ReduceLROnPlateau(monitor='val_loss', factor=0.3, min_lr=1e-7, patience=10, verbose=1, min_delta=1e-4, mode='min')"
      ],
      "execution_count": null,
      "outputs": []
    },
    {
      "cell_type": "markdown",
      "metadata": {
        "id": "kMNtJKFQMbeg"
      },
      "source": [
        "## Training"
      ]
    },
    {
      "cell_type": "code",
      "metadata": {
        "colab": {
          "base_uri": "https://localhost:8080/"
        },
        "id": "dieA1G5CEPDF",
        "outputId": "b5b7e2f2-5de5-4249-ad62-f39f372fac20"
      },
      "source": [
        "history = model.fit(train_generator,\n",
        "                    validation_data=val_generator,\n",
        "                    epochs=EPOCHS,\n",
        "                    callbacks=[early_stop, model_checkpoint, reduce_lr_rate],\n",
        "                    verbose=1)"
      ],
      "execution_count": null,
      "outputs": [
        {
          "output_type": "stream",
          "text": [
            "Epoch 1/100\n",
            "14/14 [==============================] - ETA: 0s - batch: 6.5000 - size: 30.3571 - loss: 0.5846 - accuracy: 0.6729"
          ],
          "name": "stdout"
        },
        {
          "output_type": "stream",
          "text": [
            "/usr/local/lib/python3.7/dist-packages/tensorflow/python/keras/engine/training.py:2325: UserWarning: `Model.state_updates` will be removed in a future version. This property should not be used in TensorFlow 2.0, as `updates` are applied automatically.\n",
            "  warnings.warn('`Model.state_updates` will be removed in a future version. '\n"
          ],
          "name": "stderr"
        },
        {
          "output_type": "stream",
          "text": [
            "\b\b\b\b\b\b\b\b\b\b\b\b\b\b\b\b\b\b\b\b\b\b\b\b\b\b\b\b\b\b\b\b\b\b\b\b\b\b\b\b\b\b\b\b\b\b\b\b\b\b\b\b\b\b\b\b\b\b\b\b\b\b\b\b\b\b\b\b\b\b\b\b\b\b\b\b\b\b\b\b\b\b\b\b\b\b\b\b\b\b\b\b\b\b\b\b\b\b\b\b\b\b\b\b\b\b\b\b\b\b\b\b\b\b\r14/14 [==============================] - 48s 2s/step - batch: 6.5000 - size: 30.3571 - loss: 0.5846 - accuracy: 0.6729 - val_loss: 0.4888 - val_accuracy: 0.7213\n",
            "Epoch 2/100\n",
            "14/14 [==============================] - 12s 915ms/step - batch: 6.5000 - size: 30.3571 - loss: 0.2715 - accuracy: 0.9412 - val_loss: 0.3745 - val_accuracy: 0.8361\n",
            "Epoch 3/100\n",
            "14/14 [==============================] - 27s 2s/step - batch: 6.5000 - size: 30.3571 - loss: 0.1597 - accuracy: 0.9929 - val_loss: 0.3210 - val_accuracy: 0.8525\n",
            "Epoch 4/100\n",
            "14/14 [==============================] - 27s 2s/step - batch: 6.5000 - size: 30.3571 - loss: 0.1240 - accuracy: 0.9906 - val_loss: 0.2958 - val_accuracy: 0.8689\n",
            "Epoch 5/100\n",
            "14/14 [==============================] - 27s 2s/step - batch: 6.5000 - size: 30.3571 - loss: 0.0760 - accuracy: 1.0000 - val_loss: 0.2703 - val_accuracy: 0.8689\n",
            "Epoch 6/100\n",
            "14/14 [==============================] - 27s 2s/step - batch: 6.5000 - size: 30.3571 - loss: 0.0841 - accuracy: 0.9953 - val_loss: 0.2525 - val_accuracy: 0.8852\n",
            "Epoch 7/100\n",
            "14/14 [==============================] - 27s 2s/step - batch: 6.5000 - size: 30.3571 - loss: 0.0481 - accuracy: 1.0000 - val_loss: 0.2349 - val_accuracy: 0.9180\n",
            "Epoch 8/100\n",
            "14/14 [==============================] - 27s 2s/step - batch: 6.5000 - size: 30.3571 - loss: 0.0384 - accuracy: 1.0000 - val_loss: 0.2253 - val_accuracy: 0.9344\n",
            "Epoch 9/100\n",
            "14/14 [==============================] - 27s 2s/step - batch: 6.5000 - size: 30.3571 - loss: 0.0347 - accuracy: 1.0000 - val_loss: 0.2181 - val_accuracy: 0.9344\n",
            "Epoch 10/100\n",
            "14/14 [==============================] - 27s 2s/step - batch: 6.5000 - size: 30.3571 - loss: 0.0386 - accuracy: 1.0000 - val_loss: 0.2079 - val_accuracy: 0.9180\n",
            "Epoch 11/100\n",
            "14/14 [==============================] - 27s 2s/step - batch: 6.5000 - size: 30.3571 - loss: 0.0465 - accuracy: 0.9953 - val_loss: 0.1986 - val_accuracy: 0.9344\n",
            "Epoch 12/100\n",
            "14/14 [==============================] - 27s 2s/step - batch: 6.5000 - size: 30.3571 - loss: 0.0241 - accuracy: 1.0000 - val_loss: 0.1912 - val_accuracy: 0.9344\n",
            "Epoch 13/100\n",
            "14/14 [==============================] - 27s 2s/step - batch: 6.5000 - size: 30.3571 - loss: 0.0192 - accuracy: 1.0000 - val_loss: 0.1843 - val_accuracy: 0.9344\n",
            "Epoch 14/100\n",
            "14/14 [==============================] - 27s 2s/step - batch: 6.5000 - size: 30.3571 - loss: 0.0154 - accuracy: 1.0000 - val_loss: 0.1745 - val_accuracy: 0.9344\n",
            "Epoch 15/100\n",
            "14/14 [==============================] - 27s 2s/step - batch: 6.5000 - size: 30.3571 - loss: 0.0152 - accuracy: 1.0000 - val_loss: 0.1662 - val_accuracy: 0.9672\n",
            "Epoch 16/100\n",
            "14/14 [==============================] - 27s 2s/step - batch: 6.5000 - size: 30.3571 - loss: 0.0181 - accuracy: 1.0000 - val_loss: 0.1552 - val_accuracy: 0.9672\n",
            "Epoch 17/100\n",
            "14/14 [==============================] - 27s 2s/step - batch: 6.5000 - size: 30.3571 - loss: 0.0153 - accuracy: 1.0000 - val_loss: 0.1430 - val_accuracy: 0.9672\n",
            "Epoch 18/100\n",
            "14/14 [==============================] - 27s 2s/step - batch: 6.5000 - size: 30.3571 - loss: 0.0103 - accuracy: 1.0000 - val_loss: 0.1323 - val_accuracy: 0.9672\n",
            "Epoch 19/100\n",
            "14/14 [==============================] - 27s 2s/step - batch: 6.5000 - size: 30.3571 - loss: 0.0075 - accuracy: 1.0000 - val_loss: 0.1233 - val_accuracy: 0.9672\n",
            "Epoch 20/100\n",
            "14/14 [==============================] - 27s 2s/step - batch: 6.5000 - size: 30.3571 - loss: 0.0223 - accuracy: 1.0000 - val_loss: 0.1150 - val_accuracy: 0.9672\n",
            "Epoch 21/100\n",
            "14/14 [==============================] - 27s 2s/step - batch: 6.5000 - size: 30.3571 - loss: 0.0111 - accuracy: 1.0000 - val_loss: 0.1060 - val_accuracy: 0.9836\n",
            "Epoch 22/100\n",
            "14/14 [==============================] - 27s 2s/step - batch: 6.5000 - size: 30.3571 - loss: 0.0100 - accuracy: 1.0000 - val_loss: 0.0997 - val_accuracy: 0.9836\n",
            "Epoch 23/100\n",
            "14/14 [==============================] - 27s 2s/step - batch: 6.5000 - size: 30.3571 - loss: 0.0067 - accuracy: 1.0000 - val_loss: 0.0953 - val_accuracy: 0.9836\n",
            "Epoch 24/100\n",
            "14/14 [==============================] - 27s 2s/step - batch: 6.5000 - size: 30.3571 - loss: 0.0075 - accuracy: 1.0000 - val_loss: 0.0930 - val_accuracy: 0.9836\n",
            "Epoch 25/100\n",
            "14/14 [==============================] - 27s 2s/step - batch: 6.5000 - size: 30.3571 - loss: 0.0090 - accuracy: 1.0000 - val_loss: 0.0903 - val_accuracy: 0.9836\n",
            "Epoch 26/100\n",
            "14/14 [==============================] - 26s 2s/step - batch: 6.5000 - size: 30.3571 - loss: 0.0107 - accuracy: 1.0000 - val_loss: 0.0880 - val_accuracy: 0.9836\n",
            "Epoch 27/100\n",
            "14/14 [==============================] - 26s 2s/step - batch: 6.5000 - size: 30.3571 - loss: 0.0063 - accuracy: 1.0000 - val_loss: 0.0856 - val_accuracy: 0.9836\n",
            "Epoch 28/100\n",
            "14/14 [==============================] - 27s 2s/step - batch: 6.5000 - size: 30.3571 - loss: 0.0048 - accuracy: 1.0000 - val_loss: 0.0837 - val_accuracy: 0.9836\n",
            "Epoch 29/100\n",
            "14/14 [==============================] - 27s 2s/step - batch: 6.5000 - size: 30.3571 - loss: 0.0050 - accuracy: 1.0000 - val_loss: 0.0821 - val_accuracy: 0.9836\n",
            "Epoch 30/100\n",
            "14/14 [==============================] - 26s 2s/step - batch: 6.5000 - size: 30.3571 - loss: 0.0047 - accuracy: 1.0000 - val_loss: 0.0866 - val_accuracy: 0.9836\n",
            "Epoch 31/100\n",
            "14/14 [==============================] - 27s 2s/step - batch: 6.5000 - size: 30.3571 - loss: 0.0047 - accuracy: 1.0000 - val_loss: 0.0816 - val_accuracy: 0.9836\n",
            "Epoch 32/100\n",
            "14/14 [==============================] - 27s 2s/step - batch: 6.5000 - size: 30.3571 - loss: 0.0059 - accuracy: 1.0000 - val_loss: 0.0803 - val_accuracy: 0.9836\n",
            "Epoch 33/100\n",
            "14/14 [==============================] - 27s 2s/step - batch: 6.5000 - size: 30.3571 - loss: 0.0029 - accuracy: 1.0000 - val_loss: 0.0793 - val_accuracy: 0.9836\n",
            "Epoch 34/100\n",
            "14/14 [==============================] - 26s 2s/step - batch: 6.5000 - size: 30.3571 - loss: 0.0029 - accuracy: 1.0000 - val_loss: 0.0777 - val_accuracy: 0.9836\n",
            "Epoch 35/100\n",
            "14/14 [==============================] - 27s 2s/step - batch: 6.5000 - size: 30.3571 - loss: 0.0025 - accuracy: 1.0000 - val_loss: 0.0769 - val_accuracy: 0.9836\n",
            "Epoch 36/100\n",
            "14/14 [==============================] - 26s 2s/step - batch: 6.5000 - size: 30.3571 - loss: 0.0180 - accuracy: 0.9976 - val_loss: 0.0781 - val_accuracy: 0.9836\n",
            "Epoch 37/100\n",
            "14/14 [==============================] - 26s 2s/step - batch: 6.5000 - size: 30.3571 - loss: 0.0038 - accuracy: 1.0000 - val_loss: 0.0802 - val_accuracy: 0.9836\n",
            "Epoch 38/100\n",
            "14/14 [==============================] - 27s 2s/step - batch: 6.5000 - size: 30.3571 - loss: 0.0043 - accuracy: 1.0000 - val_loss: 0.0768 - val_accuracy: 0.9836\n",
            "Epoch 39/100\n",
            "14/14 [==============================] - 27s 2s/step - batch: 6.5000 - size: 30.3571 - loss: 0.0267 - accuracy: 0.9953 - val_loss: 0.0679 - val_accuracy: 0.9836\n",
            "Epoch 40/100\n",
            "14/14 [==============================] - 27s 2s/step - batch: 6.5000 - size: 30.3571 - loss: 0.0037 - accuracy: 1.0000 - val_loss: 0.0640 - val_accuracy: 0.9836\n",
            "Epoch 41/100\n",
            "14/14 [==============================] - 27s 2s/step - batch: 6.5000 - size: 30.3571 - loss: 0.0045 - accuracy: 1.0000 - val_loss: 0.0634 - val_accuracy: 0.9836\n",
            "Epoch 42/100\n",
            "14/14 [==============================] - 27s 2s/step - batch: 6.5000 - size: 30.3571 - loss: 0.0036 - accuracy: 1.0000 - val_loss: 0.0603 - val_accuracy: 0.9836\n",
            "Epoch 43/100\n",
            "14/14 [==============================] - 27s 2s/step - batch: 6.5000 - size: 30.3571 - loss: 0.0050 - accuracy: 1.0000 - val_loss: 0.0599 - val_accuracy: 0.9836\n",
            "Epoch 44/100\n",
            "14/14 [==============================] - 26s 2s/step - batch: 6.5000 - size: 30.3571 - loss: 0.0027 - accuracy: 1.0000 - val_loss: 0.0601 - val_accuracy: 0.9836\n",
            "Epoch 45/100\n",
            "14/14 [==============================] - 27s 2s/step - batch: 6.5000 - size: 30.3571 - loss: 0.0150 - accuracy: 0.9976 - val_loss: 0.0584 - val_accuracy: 0.9836\n",
            "Epoch 46/100\n",
            "14/14 [==============================] - 27s 2s/step - batch: 6.5000 - size: 30.3571 - loss: 0.0022 - accuracy: 1.0000 - val_loss: 0.0576 - val_accuracy: 0.9836\n",
            "Epoch 47/100\n",
            "14/14 [==============================] - 26s 2s/step - batch: 6.5000 - size: 30.3571 - loss: 0.0066 - accuracy: 1.0000 - val_loss: 0.0593 - val_accuracy: 0.9836\n",
            "Epoch 48/100\n",
            "14/14 [==============================] - 26s 2s/step - batch: 6.5000 - size: 30.3571 - loss: 0.0025 - accuracy: 1.0000 - val_loss: 0.0609 - val_accuracy: 0.9836\n",
            "Epoch 49/100\n",
            "14/14 [==============================] - 26s 2s/step - batch: 6.5000 - size: 30.3571 - loss: 0.0030 - accuracy: 1.0000 - val_loss: 0.0610 - val_accuracy: 0.9836\n",
            "Epoch 50/100\n",
            "14/14 [==============================] - 26s 2s/step - batch: 6.5000 - size: 30.3571 - loss: 0.0037 - accuracy: 1.0000 - val_loss: 0.0603 - val_accuracy: 0.9836\n",
            "Epoch 51/100\n",
            "14/14 [==============================] - 26s 2s/step - batch: 6.5000 - size: 30.3571 - loss: 0.0023 - accuracy: 1.0000 - val_loss: 0.0619 - val_accuracy: 0.9836\n",
            "Epoch 52/100\n",
            "14/14 [==============================] - 26s 2s/step - batch: 6.5000 - size: 30.3571 - loss: 0.0024 - accuracy: 1.0000 - val_loss: 0.0646 - val_accuracy: 0.9836\n",
            "Epoch 53/100\n",
            "14/14 [==============================] - 26s 2s/step - batch: 6.5000 - size: 30.3571 - loss: 0.0056 - accuracy: 1.0000 - val_loss: 0.0661 - val_accuracy: 0.9836\n",
            "Epoch 54/100\n",
            "14/14 [==============================] - 26s 2s/step - batch: 6.5000 - size: 30.3571 - loss: 0.0021 - accuracy: 1.0000 - val_loss: 0.0636 - val_accuracy: 0.9836\n",
            "Epoch 55/100\n",
            "14/14 [==============================] - 27s 2s/step - batch: 6.5000 - size: 30.3571 - loss: 0.0017 - accuracy: 1.0000 - val_loss: 0.0678 - val_accuracy: 0.9836\n",
            "Epoch 56/100\n",
            "14/14 [==============================] - ETA: 0s - batch: 6.5000 - size: 30.3571 - loss: 0.0016 - accuracy: 1.0000\n",
            "Epoch 00056: ReduceLROnPlateau reducing learning rate to 2.9999999242136253e-06.\n",
            "14/14 [==============================] - 28s 2s/step - batch: 6.5000 - size: 30.3571 - loss: 0.0016 - accuracy: 1.0000 - val_loss: 0.0636 - val_accuracy: 0.9836\n"
          ],
          "name": "stdout"
        }
      ]
    },
    {
      "cell_type": "markdown",
      "metadata": {
        "id": "zlbdanXLEWqQ"
      },
      "source": [
        "# Training Graph"
      ]
    },
    {
      "cell_type": "markdown",
      "metadata": {
        "id": "byToCQjzEYXQ"
      },
      "source": [
        "## Accuracy"
      ]
    },
    {
      "cell_type": "code",
      "metadata": {
        "colab": {
          "base_uri": "https://localhost:8080/"
        },
        "id": "L7g3pYevEXid",
        "outputId": "e6fddb71-8dff-43cf-8211-500cb47fb57d"
      },
      "source": [
        "plt.plot(history.history['accuracy'])\n",
        "plt.plot(history.history['val_accuracy'])\n",
        "plt.ylabel('accuracy')\n",
        "plt.xlabel('epoch')\n",
        "plt.legend(['train', 'val'], loc='upper left')\n",
        "plt.title('accuracy graph')\n",
        "plt.show()"
      ],
      "execution_count": null,
      "outputs": [
        {
          "output_type": "display_data",
          "data": {
            "image/png": "[encoded data removed]",
            "text/plain": [
              "<Figure size 432x288 with 1 Axes>"
            ]
          },
          "metadata": {
            "tags": [],
            "needs_background": "light"
          }
        }
      ]
    },
    {
      "cell_type": "markdown",
      "metadata": {
        "id": "Vs6OwcrQEt0j"
      },
      "source": [
        "## Loss"
      ]
    },
    {
      "cell_type": "code",
      "metadata": {
        "colab": {
          "base_uri": "https://localhost:8080/",
          "height": 294
        },
        "id": "MRkFaY0WEwpu",
        "outputId": "e5ed0654-af6a-44c0-cc29-6ecff4fbe743"
      },
      "source": [
        "plt.plot(history.history['loss'])\n",
        "plt.plot(history.history['val_loss'])\n",
        "plt.ylabel('loss')\n",
        "plt.xlabel('epoch')\n",
        "plt.legend(['train', 'val'], loc='upper left')\n",
        "plt.title('loss graph')\n",
        "plt.show()"
      ],
      "execution_count": null,
      "outputs": [
        {
          "output_type": "display_data",
          "data": {
            "image/png": "[encoded data removed]",
            "text/plain": [
              "<Figure size 432x288 with 1 Axes>"
            ]
          },
          "metadata": {
            "tags": [],
            "needs_background": "light"
          }
        }
      ]
    },
    {
      "cell_type": "markdown",
      "metadata": {
        "id": "vTfQapUMEyNc"
      },
      "source": [
        "# Evaluation"
      ]
    },
    {
      "cell_type": "code",
      "metadata": {
        "id": "9qpL-ZRpEzG4"
      },
      "source": [
        "test_model = tf.keras.models.load_model('/content/Ex3_ResNet50_nmVSpmd_model.h5')"
      ],
      "execution_count": null,
      "outputs": []
    },
    {
      "cell_type": "code",
      "metadata": {
        "id": "e8T5UQAZFE5T"
      },
      "source": [
        "num_test_files = len(test_generator.filenames)"
      ],
      "execution_count": null,
      "outputs": []
    },
    {
      "cell_type": "code",
      "metadata": {
        "id": "5BJnXgt-FG1M"
      },
      "source": [
        "test_generator.reset()"
      ],
      "execution_count": null,
      "outputs": []
    },
    {
      "cell_type": "code",
      "metadata": {
        "id": "cN8OUy-5FIU4",
        "colab": {
          "base_uri": "https://localhost:8080/"
        },
        "outputId": "36b01ba7-638d-4c1b-9ff9-e6e77e26347e"
      },
      "source": [
        "test_labels = test_generator.classes\n",
        "predictions = test_model.predict(test_generator, steps=num_test_files//test_generator.batch_size)"
      ],
      "execution_count": null,
      "outputs": [
        {
          "output_type": "stream",
          "text": [
            "/usr/local/lib/python3.7/dist-packages/tensorflow/python/keras/engine/training.py:2325: UserWarning: `Model.state_updates` will be removed in a future version. This property should not be used in TensorFlow 2.0, as `updates` are applied automatically.\n",
            "  warnings.warn('`Model.state_updates` will be removed in a future version. '\n"
          ],
          "name": "stderr"
        }
      ]
    },
    {
      "cell_type": "markdown",
      "metadata": {
        "id": "K0iKAnhZFJag"
      },
      "source": [
        "## Confusion Matrix\n"
      ]
    },
    {
      "cell_type": "markdown",
      "metadata": {
        "id": "WpcGniOnFPBw"
      },
      "source": [
        "### Without Normalize"
      ]
    },
    {
      "cell_type": "code",
      "metadata": {
        "id": "J4F7lTyqFMd-",
        "colab": {
          "base_uri": "https://localhost:8080/"
        },
        "outputId": "d5eaef36-4ea9-494e-8862-4c3a7d886799"
      },
      "source": [
        "cm = confusion_matrix(test_labels, predictions.argmax(axis=1))\n",
        "\n",
        "classes_names = ['normal', 'pmd']\n",
        "\n",
        "plot_confusion_matrix(cm, classes_names, False)"
      ],
      "execution_count": null,
      "outputs": [
        {
          "output_type": "stream",
          "text": [
            "Confusion matrix, without normalization\n",
            "[[55  5]\n",
            " [ 1 61]]\n"
          ],
          "name": "stdout"
        },
        {
          "output_type": "display_data",
          "data": {
            "image/png": "[encoded data removed]",
            "text/plain": [
              "<Figure size 432x288 with 2 Axes>"
            ]
          },
          "metadata": {
            "tags": [],
            "needs_background": "light"
          }
        }
      ]
    },
    {
      "cell_type": "markdown",
      "metadata": {
        "id": "BbYGrCI2FUav"
      },
      "source": [
        "### With Normalize"
      ]
    },
    {
      "cell_type": "code",
      "metadata": {
        "id": "Rov9JD7yFVDG",
        "colab": {
          "base_uri": "https://localhost:8080/",
          "height": 350
        },
        "outputId": "885f981e-bef9-4a9b-abe3-377825503ce7"
      },
      "source": [
        "plot_confusion_matrix(cm, classes_names, True)"
      ],
      "execution_count": null,
      "outputs": [
        {
          "output_type": "stream",
          "text": [
            "Normalized confusion matrix\n",
            "[[0.91666667 0.08333333]\n",
            " [0.01612903 0.98387097]]\n"
          ],
          "name": "stdout"
        },
        {
          "output_type": "display_data",
          "data": {
            "image/png": "[encoded data removed]",
            "text/plain": [
              "<Figure size 432x288 with 2 Axes>"
            ]
          },
          "metadata": {
            "tags": [],
            "needs_background": "light"
          }
        }
      ]
    },
    {
      "cell_type": "markdown",
      "metadata": {
        "id": "PrrG-eXxFZGu"
      },
      "source": [
        "## Classification Report"
      ]
    },
    {
      "cell_type": "code",
      "metadata": {
        "id": "tBKMWyybFbQ3",
        "colab": {
          "base_uri": "https://localhost:8080/"
        },
        "outputId": "8f85be02-8a11-4629-a551-6c7a082c4693"
      },
      "source": [
        "y_pred = np.argmax(predictions, axis=1)\n",
        "print('Confusion Matrix')\n",
        "print(confusion_matrix(test_labels, y_pred))\n",
        "print('Classification Report')\n",
        "print(classification_report(test_labels, y_pred, target_names=classes_names))"
      ],
      "execution_count": null,
      "outputs": [
        {
          "output_type": "stream",
          "text": [
            "Confusion Matrix\n",
            "[[55  5]\n",
            " [ 1 61]]\n",
            "Classification Report\n",
            "              precision    recall  f1-score   support\n",
            "\n",
            "      normal       0.98      0.92      0.95        60\n",
            "         pmd       0.92      0.98      0.95        62\n",
            "\n",
            "    accuracy                           0.95       122\n",
            "   macro avg       0.95      0.95      0.95       122\n",
            "weighted avg       0.95      0.95      0.95       122\n",
            "\n"
          ],
          "name": "stdout"
        }
      ]
    },
    {
      "cell_type": "markdown",
      "metadata": {
        "id": "I-6m8AMIzlVf"
      },
      "source": [
        "## TP FP FN TN"
      ]
    },
    {
      "cell_type": "code",
      "metadata": {
        "id": "TvQy1LvKz0aP"
      },
      "source": [
        "cm_2 = confusion_matrix(test_labels, y_pred)"
      ],
      "execution_count": null,
      "outputs": []
    },
    {
      "cell_type": "markdown",
      "metadata": {
        "id": "wXsTTISqzx2q"
      },
      "source": [
        "### TP"
      ]
    },
    {
      "cell_type": "code",
      "metadata": {
        "id": "temqT846zor7"
      },
      "source": [
        "TruePositive= np.diag(cm_2)"
      ],
      "execution_count": null,
      "outputs": []
    },
    {
      "cell_type": "code",
      "metadata": {
        "id": "GzVWg1yQz7Xk",
        "colab": {
          "base_uri": "https://localhost:8080/"
        },
        "outputId": "3dfb47d7-5bdb-4e03-8d84-0c86a6776490"
      },
      "source": [
        "print(TruePositive)\n",
        "sumTruePositive = sum(TruePositive)\n",
        "print('Sum of True Positive: ', sumTruePositive)"
      ],
      "execution_count": null,
      "outputs": [
        {
          "output_type": "stream",
          "text": [
            "[55 61]\n",
            "Sum of True Positive:  116\n"
          ],
          "name": "stdout"
        }
      ]
    },
    {
      "cell_type": "markdown",
      "metadata": {
        "id": "PcrzFA940j8_"
      },
      "source": [
        "### FP"
      ]
    },
    {
      "cell_type": "code",
      "metadata": {
        "id": "63SaJOAI0nQ5"
      },
      "source": [
        "FalsePositive = []\n",
        "for i in range(NUM_CLASSES):\n",
        "    FalsePositive.append(sum(cm_2[:,i]) - cm_2[i,i])"
      ],
      "execution_count": null,
      "outputs": []
    },
    {
      "cell_type": "code",
      "metadata": {
        "id": "kFNnVvDb0qZZ",
        "colab": {
          "base_uri": "https://localhost:8080/"
        },
        "outputId": "fe1e9cd8-7fe7-46e6-d4b1-37bebfc868b4"
      },
      "source": [
        "print(FalsePositive)\n",
        "sumFalsePositive = sum(FalsePositive)\n",
        "print('Sum of False Positive: ', sumFalsePositive)"
      ],
      "execution_count": null,
      "outputs": [
        {
          "output_type": "stream",
          "text": [
            "[1, 5]\n",
            "Sum of False Positive:  6\n"
          ],
          "name": "stdout"
        }
      ]
    },
    {
      "cell_type": "markdown",
      "metadata": {
        "id": "Arvl86myz23m"
      },
      "source": [
        "### FN"
      ]
    },
    {
      "cell_type": "code",
      "metadata": {
        "id": "GuiGFj6Bz51n"
      },
      "source": [
        "FalseNegative = []\n",
        "for i in range(NUM_CLASSES):\n",
        "    FalseNegative.append(sum(cm_2[i,:]) - cm_2[i,i])"
      ],
      "execution_count": null,
      "outputs": []
    },
    {
      "cell_type": "code",
      "metadata": {
        "id": "5JoMFzhK08Ih",
        "colab": {
          "base_uri": "https://localhost:8080/"
        },
        "outputId": "a9401a9f-5c9c-4d7b-904e-efcceca4d56e"
      },
      "source": [
        "print(FalseNegative)\n",
        "sumFalseNegative = sum(FalseNegative)\n",
        "print('Sum of False Negative: ', sumFalseNegative)"
      ],
      "execution_count": null,
      "outputs": [
        {
          "output_type": "stream",
          "text": [
            "[5, 1]\n",
            "Sum of False Negative:  6\n"
          ],
          "name": "stdout"
        }
      ]
    },
    {
      "cell_type": "markdown",
      "metadata": {
        "id": "LbBhCaW50i41"
      },
      "source": [
        "### TN"
      ]
    },
    {
      "cell_type": "code",
      "metadata": {
        "id": "InyzOGoQ15Sn"
      },
      "source": [
        "TrueNegative = []\n",
        "for i in range(NUM_CLASSES):\n",
        "    temp = np.delete(cm_2, i, 0)   # delete ith row\n",
        "    temp = np.delete(temp, i, 1)  # delete ith column\n",
        "    TrueNegative.append(sum(sum(temp)))"
      ],
      "execution_count": null,
      "outputs": []
    },
    {
      "cell_type": "code",
      "metadata": {
        "id": "E-gsj4kd8O7W",
        "colab": {
          "base_uri": "https://localhost:8080/"
        },
        "outputId": "e1d3f09a-f433-4614-bf47-03b8ec2ef78e"
      },
      "source": [
        "print(TrueNegative)\n",
        "sumTrueNegative = sum(TrueNegative)\n",
        "print('Sum of True Negative: ', sumTrueNegative)"
      ],
      "execution_count": null,
      "outputs": [
        {
          "output_type": "stream",
          "text": [
            "[61, 55]\n",
            "Sum of True Negative:  116\n"
          ],
          "name": "stdout"
        }
      ]
    },
    {
      "cell_type": "markdown",
      "metadata": {
        "id": "QHporRqx3153"
      },
      "source": [
        "### Check TP + FP + FN + TN = Test set"
      ]
    },
    {
      "cell_type": "code",
      "metadata": {
        "id": "woGIGiJq32Ju",
        "colab": {
          "base_uri": "https://localhost:8080/"
        },
        "outputId": "6ed79fa5-e0f2-4ea1-a307-9eec305aade0"
      },
      "source": [
        "l = len(test_labels)\n",
        "for i in range(NUM_CLASSES):\n",
        "    print(TruePositive[i] + FalsePositive[i] + FalseNegative[i] + TrueNegative[i] == l)"
      ],
      "execution_count": null,
      "outputs": [
        {
          "output_type": "stream",
          "text": [
            "True\n",
            "True\n"
          ],
          "name": "stdout"
        }
      ]
    },
    {
      "cell_type": "markdown",
      "metadata": {
        "id": "5-OVp0k-UHiD"
      },
      "source": [
        "## ROC\n",
        "https://qiita.com/bmj0114/items/460424c110a8ce22d945"
      ]
    },
    {
      "cell_type": "code",
      "metadata": {
        "id": "Etu6Jrv2UG4T"
      },
      "source": [
        "from sklearn.metrics import roc_curve\n",
        "from sklearn.metrics import roc_auc_score\n",
        "from sklearn.metrics import auc"
      ],
      "execution_count": null,
      "outputs": []
    },
    {
      "cell_type": "code",
      "metadata": {
        "id": "4FcYiv4PUpZ4"
      },
      "source": [
        "fpr, tpr, thresholds = roc_curve(test_labels, y_pred)\n",
        "auc_keras = auc(fpr, tpr)\n",
        "roc_auc = auc(fpr, tpr)"
      ],
      "execution_count": null,
      "outputs": []
    },
    {
      "cell_type": "code",
      "metadata": {
        "id": "coaUfvj8Vzd4",
        "colab": {
          "base_uri": "https://localhost:8080/"
        },
        "outputId": "7000eba5-d0a6-4ce9-9f00-30c5c2d20fae"
      },
      "source": [
        "plt.figure()\n",
        "plt.plot(fpr, tpr, color='darkorange', lw=1, label='ROC curve (area = %0.2f)' % roc_auc)\n",
        "plt.plot([0, 1], [0, 1], color='navy', lw=1, linestyle='--')\n",
        "plt.xlim([0.0, 1.0])\n",
        "plt.ylim([0.0, 1.05])\n",
        "plt.xlabel('False Positive Rate')\n",
        "plt.ylabel('True Positive Rate')\n",
        "plt.title('Receiver operating characteristic')\n",
        "plt.legend(loc=\"lower right\")\n",
        "plt.show()"
      ],
      "execution_count": null,
      "outputs": [
        {
          "output_type": "display_data",
          "data": {
            "image/png": "[encoded data removed]",
            "text/plain": [
              "<Figure size 432x288 with 1 Axes>"
            ]
          },
          "metadata": {
            "tags": [],
            "needs_background": "light"
          }
        }
      ]
    },
    {
      "cell_type": "markdown",
      "metadata": {
        "id": "o2s8LCC7sZcL"
      },
      "source": [
        "## Precision-Recall curve\n",
        "https://machinelearningmastery.com/roc-curves-and-precision-recall-curves-for-classification-in-python/"
      ]
    },
    {
      "cell_type": "code",
      "metadata": {
        "id": "UK0fLEwls0um"
      },
      "source": [
        "from sklearn.metrics import precision_recall_curve\n",
        "from sklearn.metrics import f1_score"
      ],
      "execution_count": null,
      "outputs": []
    },
    {
      "cell_type": "code",
      "metadata": {
        "id": "wILcACRisdjk"
      },
      "source": [
        "probs = predictions[:, 1]"
      ],
      "execution_count": null,
      "outputs": []
    },
    {
      "cell_type": "code",
      "metadata": {
        "id": "NHRN-WG9tG23"
      },
      "source": [
        "precision, recall, _ = precision_recall_curve(test_labels, probs)"
      ],
      "execution_count": null,
      "outputs": []
    },
    {
      "cell_type": "code",
      "metadata": {
        "id": "lTj2Q7B_tQnM"
      },
      "source": [
        "f1, auc = f1_score(test_labels, y_pred), auc(recall, precision)"
      ],
      "execution_count": null,
      "outputs": []
    },
    {
      "cell_type": "code",
      "metadata": {
        "id": "pKYDwDwStVSR"
      },
      "source": [
        "test_labels = len(test_labels[test_labels==1]) / len(test_labels)"
      ],
      "execution_count": null,
      "outputs": []
    },
    {
      "cell_type": "code",
      "metadata": {
        "id": "aCH8WPSrvNhC",
        "colab": {
          "base_uri": "https://localhost:8080/",
          "height": 296
        },
        "outputId": "cf0aee5f-b05f-4804-88d0-e9282f4a0b3b"
      },
      "source": [
        "plt.plot([0, 1], [test_labels, test_labels], linestyle='--')\n",
        "plt.plot(recall, precision, marker='.')\n",
        "plt.xlabel('Recall')\n",
        "plt.ylabel('Precision')\n",
        "# show the legend\n",
        "plt.legend()\n",
        "# show the plot\n",
        "plt.show()"
      ],
      "execution_count": null,
      "outputs": [
        {
          "output_type": "stream",
          "text": [
            "No handles with labels found to put in legend.\n"
          ],
          "name": "stderr"
        },
        {
          "output_type": "display_data",
          "data": {
            "image/png": "[encoded data removed]",
            "text/plain": [
              "<Figure size 432x288 with 1 Axes>"
            ]
          },
          "metadata": {
            "tags": [],
            "needs_background": "light"
          }
        }
      ]
    },
    {
      "cell_type": "markdown",
      "metadata": {
        "id": "5iPE_szHH6ok"
      },
      "source": [
        "## PYCM"
      ]
    },
    {
      "cell_type": "code",
      "metadata": {
        "id": "of6EK7cBH4ZH",
        "colab": {
          "base_uri": "https://localhost:8080/"
        },
        "outputId": "589812ec-14bd-41ad-e192-52b62ac3236e"
      },
      "source": [
        "!pip3 install pycm==3.0 "
      ],
      "execution_count": null,
      "outputs": [
        {
          "output_type": "stream",
          "text": [
            "Requirement already satisfied: pycm==3.0 in /usr/local/lib/python3.7/dist-packages (3.0)\n",
            "Requirement already satisfied: art>=1.8 in /usr/local/lib/python3.7/dist-packages (from pycm==3.0) (5.1)\n",
            "Requirement already satisfied: numpy>=1.9.0 in /usr/local/lib/python3.7/dist-packages (from pycm==3.0) (1.19.5)\n"
          ],
          "name": "stdout"
        }
      ]
    },
    {
      "cell_type": "code",
      "metadata": {
        "id": "f3af2PaoID14"
      },
      "source": [
        "from pycm import *"
      ],
      "execution_count": null,
      "outputs": []
    },
    {
      "cell_type": "code",
      "metadata": {
        "id": "MbFq_zl1SukZ"
      },
      "source": [
        "test_labels = test_generator.classes"
      ],
      "execution_count": null,
      "outputs": []
    },
    {
      "cell_type": "code",
      "metadata": {
        "id": "DppqLjymH7d1"
      },
      "source": [
        "py_cm = ConfusionMatrix(actual_vector=test_labels, predict_vector=y_pred)"
      ],
      "execution_count": null,
      "outputs": []
    },
    {
      "cell_type": "code",
      "metadata": {
        "id": "jynkLA94H-Ea",
        "colab": {
          "base_uri": "https://localhost:8080/"
        },
        "outputId": "4af726e4-612f-47a7-a04b-09b2dc521738"
      },
      "source": [
        "py_cm.classes"
      ],
      "execution_count": null,
      "outputs": [
        {
          "output_type": "execute_result",
          "data": {
            "text/plain": [
              "[0, 1]"
            ]
          },
          "metadata": {
            "tags": []
          },
          "execution_count": 47
        }
      ]
    },
    {
      "cell_type": "code",
      "metadata": {
        "id": "4RO4KeeqH_rd",
        "colab": {
          "base_uri": "https://localhost:8080/"
        },
        "outputId": "4214e738-84b3-412d-83f0-12ab8df8e479"
      },
      "source": [
        "py_cm.table"
      ],
      "execution_count": null,
      "outputs": [
        {
          "output_type": "execute_result",
          "data": {
            "text/plain": [
              "{0: {0: 55, 1: 5}, 1: {0: 1, 1: 61}}"
            ]
          },
          "metadata": {
            "tags": []
          },
          "execution_count": 48
        }
      ]
    },
    {
      "cell_type": "code",
      "metadata": {
        "id": "hu-oZzk-IC5r",
        "colab": {
          "base_uri": "https://localhost:8080/"
        },
        "outputId": "6a9158c5-7f7f-4179-c376-79a9656b27b8"
      },
      "source": [
        "print(py_cm)"
      ],
      "execution_count": null,
      "outputs": [
        {
          "output_type": "stream",
          "text": [
            "Predict  0        1        \n",
            "Actual\n",
            "0        55       5        \n",
            "\n",
            "1        1        61       \n",
            "\n",
            "\n",
            "\n",
            "\n",
            "\n",
            "Overall Statistics : \n",
            "\n",
            "95% CI                                                            (0.91245,0.98919)\n",
            "ACC Macro                                                         0.95082\n",
            "ARI                                                               0.81141\n",
            "AUNP                                                              0.95027\n",
            "AUNU                                                              0.95027\n",
            "Bangdiwala B                                                      0.90526\n",
            "Bennett S                                                         0.90164\n",
            "CBA                                                               0.92045\n",
            "CSI                                                               0.90346\n",
            "Chi-Squared                                                       99.58055\n",
            "Chi-Squared DF                                                    1\n",
            "Conditional Entropy                                               0.26405\n",
            "Cramer V                                                          0.90346\n",
            "Cross Entropy                                                     1.00292\n",
            "F1 Macro                                                          0.9507\n",
            "F1 Micro                                                          0.95082\n",
            "FNR Macro                                                         0.04973\n",
            "FNR Micro                                                         0.04918\n",
            "FPR Macro                                                         0.04973\n",
            "FPR Micro                                                         0.04918\n",
            "Gwet AC1                                                          0.90188\n",
            "Hamming Loss                                                      0.04918\n",
            "Joint Entropy                                                     1.26386\n",
            "KL Divergence                                                     0.00311\n",
            "Kappa                                                             0.90151\n",
            "Kappa 95% CI                                                      (0.82466,0.97836)\n",
            "Kappa No Prevalence                                               0.90164\n",
            "Kappa Standard Error                                              0.03921\n",
            "Kappa Unbiased                                                    0.9014\n",
            "Krippendorff Alpha                                                0.9018\n",
            "Lambda A                                                          0.9\n",
            "Lambda B                                                          0.89286\n",
            "Mutual Information                                                0.7311\n",
            "NIR                                                               0.5082\n",
            "Overall ACC                                                       0.95082\n",
            "Overall CEN                                                       0.24561\n",
            "Overall J                                                         (1.81209,0.90604)\n",
            "Overall MCC                                                       0.90346\n",
            "Overall MCEN                                                      0.19984\n",
            "Overall RACC                                                      0.50067\n",
            "Overall RACCU                                                     0.50121\n",
            "P-Value                                                           0.0\n",
            "PPV Macro                                                         0.95319\n",
            "PPV Micro                                                         0.95082\n",
            "Pearson C                                                         0.67038\n",
            "Phi-Squared                                                       0.81623\n",
            "RCI                                                               0.73124\n",
            "RR                                                                61.0\n",
            "Reference Entropy                                                 0.99981\n",
            "Response Entropy                                                  0.99515\n",
            "SOA1(Landis & Koch)                                               Almost Perfect\n",
            "SOA2(Fleiss)                                                      Excellent\n",
            "SOA3(Altman)                                                      Very Good\n",
            "SOA4(Cicchetti)                                                   Excellent\n",
            "SOA5(Cramer)                                                      Very Strong\n",
            "SOA6(Matthews)                                                    Very Strong\n",
            "Scott PI                                                          0.9014\n",
            "Standard Error                                                    0.01958\n",
            "TNR Macro                                                         0.95027\n",
            "TNR Micro                                                         0.95082\n",
            "TPR Macro                                                         0.95027\n",
            "TPR Micro                                                         0.95082\n",
            "Zero-one Loss                                                     6\n",
            "\n",
            "Class Statistics :\n",
            "\n",
            "Classes                                                           0             1             \n",
            "ACC(Accuracy)                                                     0.95082       0.95082       \n",
            "AGF(Adjusted F-score)                                             0.93231       0.96982       \n",
            "AGM(Adjusted geometric mean)                                      0.9612        0.93879       \n",
            "AM(Difference between automatic and manual classification)        -4            4             \n",
            "AUC(Area under the ROC curve)                                     0.95027       0.95027       \n",
            "AUCI(AUC value interpretation)                                    Excellent     Excellent     \n",
            "AUPR(Area under the PR curve)                                     0.9494        0.95406       \n",
            "BCD(Bray-Curtis dissimilarity)                                    0.01639       0.01639       \n",
            "BM(Informedness or bookmaker informedness)                        0.90054       0.90054       \n",
            "CEN(Confusion entropy)                                            0.25464       0.23742       \n",
            "DOR(Diagnostic odds ratio)                                        671.0         671.0         \n",
            "DP(Discriminant power)                                            1.55845       1.55845       \n",
            "DPI(Discriminant power interpretation)                            Limited       Limited       \n",
            "ERR(Error rate)                                                   0.04918       0.04918       \n",
            "F0.5(F0.5 score)                                                  0.96831       0.93558       \n",
            "F1(F1 score - harmonic mean of precision and sensitivity)         0.94828       0.95312       \n",
            "F2(F2 score)                                                      0.92905       0.97134       \n",
            "FDR(False discovery rate)                                         0.01786       0.07576       \n",
            "FN(False negative/miss/type 2 error)                              5             1             \n",
            "FNR(Miss rate or false negative rate)                             0.08333       0.01613       \n",
            "FOR(False omission rate)                                          0.07576       0.01786       \n",
            "FP(False positive/type 1 error/false alarm)                       1             5             \n",
            "FPR(Fall-out or false positive rate)                              0.01613       0.08333       \n",
            "G(G-measure geometric mean of precision and sensitivity)          0.94884       0.95359       \n",
            "GI(Gini index)                                                    0.90054       0.90054       \n",
            "GM(G-mean geometric mean of specificity and sensitivity)          0.94967       0.94967       \n",
            "IBA(Index of balanced accuracy)                                   0.84127       0.96249       \n",
            "ICSI(Individual classification success index)                     0.89881       0.90811       \n",
            "IS(Information score)                                             0.99785       0.86288       \n",
            "J(Jaccard index)                                                  0.90164       0.91045       \n",
            "LS(Lift score)                                                    1.99702       1.81867       \n",
            "MCC(Matthews correlation coefficient)                             0.90346       0.90346       \n",
            "MCCI(Matthews correlation coefficient interpretation)             Very Strong   Very Strong   \n",
            "MCEN(Modified confusion entropy)                                  0.39303       0.36995       \n",
            "MK(Markedness)                                                    0.90639       0.90639       \n",
            "N(Condition negative)                                             62            60            \n",
            "NLR(Negative likelihood ratio)                                    0.0847        0.0176        \n",
            "NLRI(Negative likelihood ratio interpretation)                    Good          Good          \n",
            "NPV(Negative predictive value)                                    0.92424       0.98214       \n",
            "OC(Overlap coefficient)                                           0.98214       0.98387       \n",
            "OOC(Otsuka-Ochiai coefficient)                                    0.94884       0.95359       \n",
            "OP(Optimized precision)                                           0.91546       0.91546       \n",
            "P(Condition positive or support)                                  60            62            \n",
            "PLR(Positive likelihood ratio)                                    56.83333      11.80645      \n",
            "PLRI(Positive likelihood ratio interpretation)                    Good          Good          \n",
            "POP(Population)                                                   122           122           \n",
            "PPV(Precision or positive predictive value)                       0.98214       0.92424       \n",
            "PRE(Prevalence)                                                   0.4918        0.5082        \n",
            "Q(Yule Q - coefficient of colligation)                            0.99702       0.99702       \n",
            "QI(Yule Q interpretation)                                         Strong        Strong        \n",
            "RACC(Random accuracy)                                             0.22575       0.27493       \n",
            "RACCU(Random accuracy unbiased)                                   0.22601       0.27519       \n",
            "TN(True negative/correct rejection)                               61            55            \n",
            "TNR(Specificity or true negative rate)                            0.98387       0.91667       \n",
            "TON(Test outcome negative)                                        66            56            \n",
            "TOP(Test outcome positive)                                        56            66            \n",
            "TP(True positive/hit)                                             55            61            \n",
            "TPR(Sensitivity, recall, hit rate, or true positive rate)         0.91667       0.98387       \n",
            "Y(Youden index)                                                   0.90054       0.90054       \n",
            "dInd(Distance index)                                              0.08488       0.08488       \n",
            "sInd(Similarity index)                                            0.93998       0.93998       \n",
            "\n"
          ],
          "name": "stdout"
        }
      ]
    },
    {
      "cell_type": "markdown",
      "metadata": {
        "id": "UgQaENxfjYhF"
      },
      "source": [
        "### Average AUC"
      ]
    },
    {
      "cell_type": "code",
      "metadata": {
        "id": "z5A--WLDCsET"
      },
      "source": [
        "AV_AUC = (py_cm.AUC[0] + py_cm.AUC[1])/len(py_cm.AUC)"
      ],
      "execution_count": null,
      "outputs": []
    },
    {
      "cell_type": "code",
      "metadata": {
        "id": "RnhMVVsEjROn",
        "colab": {
          "base_uri": "https://localhost:8080/"
        },
        "outputId": "9dc4e8b5-fbd5-4f21-8d9c-61e2e6d8d8e2"
      },
      "source": [
        "print('Average AUC: ', AV_AUC)"
      ],
      "execution_count": null,
      "outputs": [
        {
          "output_type": "stream",
          "text": [
            "Average AUC:  0.950268817204301\n"
          ],
          "name": "stdout"
        }
      ]
    },
    {
      "cell_type": "markdown",
      "metadata": {
        "id": "PsJ3XELxjfvY"
      },
      "source": [
        "### Average Sensitivity"
      ]
    },
    {
      "cell_type": "code",
      "metadata": {
        "id": "pW_SxFf1jSuE"
      },
      "source": [
        "AV_Sens = (py_cm.TPR[0] + py_cm.TPR[1])/len(py_cm.TPR)"
      ],
      "execution_count": null,
      "outputs": []
    },
    {
      "cell_type": "code",
      "metadata": {
        "id": "egYEm3eZjTyi",
        "colab": {
          "base_uri": "https://localhost:8080/"
        },
        "outputId": "cde3e6f9-b278-4a6a-d808-5144e7c49c79"
      },
      "source": [
        "print('Average Sensitivity: ', AV_Sens)"
      ],
      "execution_count": null,
      "outputs": [
        {
          "output_type": "stream",
          "text": [
            "Average Sensitivity:  0.950268817204301\n"
          ],
          "name": "stdout"
        }
      ]
    },
    {
      "cell_type": "markdown",
      "metadata": {
        "id": "d2Q58CeGjh9R"
      },
      "source": [
        "### Average Specificity"
      ]
    },
    {
      "cell_type": "code",
      "metadata": {
        "id": "A0_YBlq1jU-Y"
      },
      "source": [
        "AV_Spec = (py_cm.TNR[0] + py_cm.TNR[1])/len(py_cm.TNR)"
      ],
      "execution_count": null,
      "outputs": []
    },
    {
      "cell_type": "code",
      "metadata": {
        "id": "35UACF5kjWNE",
        "colab": {
          "base_uri": "https://localhost:8080/"
        },
        "outputId": "f76bce7e-d201-4be6-ae55-75f1f80d4282"
      },
      "source": [
        "print('Average Specificity: ', AV_Spec)"
      ],
      "execution_count": null,
      "outputs": [
        {
          "output_type": "stream",
          "text": [
            "Average Specificity:  0.950268817204301\n"
          ],
          "name": "stdout"
        }
      ]
    },
    {
      "cell_type": "markdown",
      "metadata": {
        "id": "7_X4BIH0f2r4"
      },
      "source": [
        "# Download Model"
      ]
    },
    {
      "cell_type": "code",
      "metadata": {
        "id": "sGa5YNPvffsp"
      },
      "source": [
        "from google.colab import files"
      ],
      "execution_count": null,
      "outputs": []
    },
    {
      "cell_type": "code",
      "metadata": {
        "id": "Y5yIek8BfhYn",
        "colab": {
          "base_uri": "https://localhost:8080/"
        },
        "outputId": "701fdc5f-3e99-4252-f374-6c74567190fb"
      },
      "source": [
        "files.download('/content/Ex3_ResNet50_nmVSpmd_model.h5')"
      ],
      "execution_count": null,
      "outputs": [
        {
          "output_type": "display_data",
          "data": {
            "application/javascript": [
              "\n",
              "    async function download(id, filename, size) {\n",
              "      if (!google.colab.kernel.accessAllowed) {\n",
              "        return;\n",
              "      }\n",
              "      const div = document.createElement('div');\n",
              "      const label = document.createElement('label');\n",
              "      label.textContent = `Downloading \"${filename}\": `;\n",
              "      div.appendChild(label);\n",
              "      const progress = document.createElement('progress');\n",
              "      progress.max = size;\n",
              "      div.appendChild(progress);\n",
              "      document.body.appendChild(div);\n",
              "\n",
              "      const buffers = [];\n",
              "      let downloaded = 0;\n",
              "\n",
              "      const channel = await google.colab.kernel.comms.open(id);\n",
              "      // Send a message to notify the kernel that we're ready.\n",
              "      channel.send({})\n",
              "\n",
              "      for await (const message of channel.messages) {\n",
              "        // Send a message to notify the kernel that we're ready.\n",
              "        channel.send({})\n",
              "        if (message.buffers) {\n",
              "          for (const buffer of message.buffers) {\n",
              "            buffers.push(buffer);\n",
              "            downloaded += buffer.byteLength;\n",
              "            progress.value = downloaded;\n",
              "          }\n",
              "        }\n",
              "      }\n",
              "      const blob = new Blob(buffers, {type: 'application/binary'});\n",
              "      const a = document.createElement('a');\n",
              "      a.href = window.URL.createObjectURL(blob);\n",
              "      a.download = filename;\n",
              "      div.appendChild(a);\n",
              "      a.click();\n",
              "      div.remove();\n",
              "    }\n",
              "  "
            ],
            "text/plain": [
              "<IPython.core.display.Javascript object>"
            ]
          },
          "metadata": {
            "tags": []
          }
        },
        {
          "output_type": "display_data",
          "data": {
            "application/javascript": [
              "download(\"download_1945ac01-3ea1-4c5b-9ae6-d74662e0a602\", \"Ex3_ResNet50_nmVSpmd_model.h5\", 283384752)"
            ],
            "text/plain": [
              "<IPython.core.display.Javascript object>"
            ]
          },
          "metadata": {
            "tags": []
          }
        }
      ]
    },
    {
      "cell_type": "markdown",
      "metadata": {
        "id": "zUonwhzMFia7"
      },
      "source": [
        "## Grad-CAM"
      ]
    },
    {
      "cell_type": "code",
      "metadata": {
        "id": "tdnRutcHFgPk"
      },
      "source": [
        "last_conv2d = 'conv5_block16_2_conv'"
      ],
      "execution_count": null,
      "outputs": []
    },
    {
      "cell_type": "markdown",
      "metadata": {
        "id": "hl-7vcViFqpa"
      },
      "source": [
        "### Cancer"
      ]
    },
    {
      "cell_type": "markdown",
      "metadata": {
        "id": "g7oVqgYxBKhD"
      },
      "source": [
        "#### Cancer 1"
      ]
    },
    {
      "cell_type": "code",
      "metadata": {
        "id": "U6CbePUH-dUX"
      },
      "source": [
        "cancer1_img = '/content/AJPom_cancer_data/dataset/test/cancer/Cancer_edit_A_15.jpg' "
      ],
      "execution_count": null,
      "outputs": []
    },
    {
      "cell_type": "code",
      "metadata": {
        "id": "YpMyddxd-Y1A",
        "colab": {
          "base_uri": "https://localhost:8080/",
          "height": 317
        },
        "outputId": "9070c535-c6c3-4993-ae52-7b342493b4e2"
      },
      "source": [
        "gradcam, gb, guided_gradcam = compute_saliency(test_model, test_model, cancer1_img, layer_name=last_conv2d)"
      ],
      "execution_count": null,
      "outputs": [
        {
          "output_type": "error",
          "ename": "FileNotFoundError",
          "evalue": "ignored",
          "traceback": [
            "\u001b[0;31m---------------------------------------------------------------------------\u001b[0m",
            "\u001b[0;31mFileNotFoundError\u001b[0m                         Traceback (most recent call last)",
            "\u001b[0;32m<ipython-input-60-3f06bb660548>\u001b[0m in \u001b[0;36m<module>\u001b[0;34m()\u001b[0m\n\u001b[0;32m----> 1\u001b[0;31m \u001b[0mgradcam\u001b[0m\u001b[0;34m,\u001b[0m \u001b[0mgb\u001b[0m\u001b[0;34m,\u001b[0m \u001b[0mguided_gradcam\u001b[0m \u001b[0;34m=\u001b[0m \u001b[0mcompute_saliency\u001b[0m\u001b[0;34m(\u001b[0m\u001b[0mtest_model\u001b[0m\u001b[0;34m,\u001b[0m \u001b[0mtest_model\u001b[0m\u001b[0;34m,\u001b[0m \u001b[0mcancer1_img\u001b[0m\u001b[0;34m,\u001b[0m \u001b[0mlayer_name\u001b[0m\u001b[0;34m=\u001b[0m\u001b[0mlast_conv2d\u001b[0m\u001b[0;34m)\u001b[0m\u001b[0;34m\u001b[0m\u001b[0;34m\u001b[0m\u001b[0m\n\u001b[0m",
            "\u001b[0;32m/content/Ex2_DenseNet121_nmVSpmd_utils.py\u001b[0m in \u001b[0;36mcompute_saliency\u001b[0;34m(model, guided_model, img_path, layer_name, cls, visualize, save)\u001b[0m\n\u001b[1;32m    162\u001b[0m         \u001b[0;34m-\u001b[0m\u001b[0mcls\u001b[0m\u001b[0;34m:\u001b[0m \u001b[0;32mclass\u001b[0m \u001b[0mnumber\u001b[0m \u001b[0mto\u001b[0m \u001b[0mlocalize\u001b[0m \u001b[0;34m(\u001b[0m\u001b[0;34m-\u001b[0m\u001b[0;36m1\u001b[0m \u001b[0;32mfor\u001b[0m \u001b[0mmost\u001b[0m \u001b[0mprobable\u001b[0m \u001b[0;32mclass\u001b[0m\u001b[0;34m)\u001b[0m\u001b[0;34m.\u001b[0m\u001b[0;34m\u001b[0m\u001b[0;34m\u001b[0m\u001b[0m\n\u001b[1;32m    163\u001b[0m     \"\"\"\n\u001b[0;32m--> 164\u001b[0;31m     \u001b[0mpreprocessed_input\u001b[0m \u001b[0;34m=\u001b[0m \u001b[0mload_image\u001b[0m\u001b[0;34m(\u001b[0m\u001b[0mimg_path\u001b[0m\u001b[0;34m)\u001b[0m\u001b[0;34m\u001b[0m\u001b[0;34m\u001b[0m\u001b[0m\n\u001b[0m\u001b[1;32m    165\u001b[0m     \u001b[0mpredictions\u001b[0m \u001b[0;34m=\u001b[0m \u001b[0mmodel\u001b[0m\u001b[0;34m.\u001b[0m\u001b[0mpredict\u001b[0m\u001b[0;34m(\u001b[0m\u001b[0mpreprocessed_input\u001b[0m\u001b[0;34m)\u001b[0m\u001b[0;34m\u001b[0m\u001b[0;34m\u001b[0m\u001b[0m\n\u001b[1;32m    166\u001b[0m     \u001b[0mtop_n\u001b[0m \u001b[0;34m=\u001b[0m \u001b[0;36m5\u001b[0m\u001b[0;34m\u001b[0m\u001b[0;34m\u001b[0m\u001b[0m\n",
            "\u001b[0;32m/content/Ex2_DenseNet121_nmVSpmd_utils.py\u001b[0m in \u001b[0;36mload_image\u001b[0;34m(path, preprocess)\u001b[0m\n\u001b[1;32m     61\u001b[0m \u001b[0;32mdef\u001b[0m \u001b[0mload_image\u001b[0m\u001b[0;34m(\u001b[0m\u001b[0mpath\u001b[0m\u001b[0;34m,\u001b[0m \u001b[0mpreprocess\u001b[0m\u001b[0;34m=\u001b[0m\u001b[0;32mTrue\u001b[0m\u001b[0;34m)\u001b[0m\u001b[0;34m:\u001b[0m\u001b[0;34m\u001b[0m\u001b[0;34m\u001b[0m\u001b[0m\n\u001b[1;32m     62\u001b[0m     \u001b[0;34m\"\"\"Load and preprocess image.\"\"\"\u001b[0m\u001b[0;34m\u001b[0m\u001b[0;34m\u001b[0m\u001b[0m\n\u001b[0;32m---> 63\u001b[0;31m     \u001b[0mx\u001b[0m \u001b[0;34m=\u001b[0m \u001b[0mimage\u001b[0m\u001b[0;34m.\u001b[0m\u001b[0mload_img\u001b[0m\u001b[0;34m(\u001b[0m\u001b[0mpath\u001b[0m\u001b[0;34m,\u001b[0m \u001b[0mtarget_size\u001b[0m\u001b[0;34m=\u001b[0m\u001b[0;34m(\u001b[0m\u001b[0mIMG_HEIGHT\u001b[0m\u001b[0;34m,\u001b[0m \u001b[0mIMG_WIDTH\u001b[0m\u001b[0;34m)\u001b[0m\u001b[0;34m)\u001b[0m\u001b[0;34m\u001b[0m\u001b[0;34m\u001b[0m\u001b[0m\n\u001b[0m\u001b[1;32m     64\u001b[0m     \u001b[0;32mif\u001b[0m \u001b[0mpreprocess\u001b[0m\u001b[0;34m:\u001b[0m\u001b[0;34m\u001b[0m\u001b[0;34m\u001b[0m\u001b[0m\n\u001b[1;32m     65\u001b[0m         \u001b[0mx\u001b[0m \u001b[0;34m=\u001b[0m \u001b[0mimage\u001b[0m\u001b[0;34m.\u001b[0m\u001b[0mimg_to_array\u001b[0m\u001b[0;34m(\u001b[0m\u001b[0mx\u001b[0m\u001b[0;34m)\u001b[0m\u001b[0;34m\u001b[0m\u001b[0;34m\u001b[0m\u001b[0m\n",
            "\u001b[0;32m/usr/local/lib/python3.7/dist-packages/tensorflow/python/keras/preprocessing/image.py\u001b[0m in \u001b[0;36mload_img\u001b[0;34m(path, grayscale, color_mode, target_size, interpolation)\u001b[0m\n\u001b[1;32m    298\u001b[0m   \"\"\"\n\u001b[1;32m    299\u001b[0m   return image.load_img(path, grayscale=grayscale, color_mode=color_mode,\n\u001b[0;32m--> 300\u001b[0;31m                         target_size=target_size, interpolation=interpolation)\n\u001b[0m\u001b[1;32m    301\u001b[0m \u001b[0;34m\u001b[0m\u001b[0m\n\u001b[1;32m    302\u001b[0m \u001b[0;34m\u001b[0m\u001b[0m\n",
            "\u001b[0;32m/usr/local/lib/python3.7/dist-packages/keras_preprocessing/image/utils.py\u001b[0m in \u001b[0;36mload_img\u001b[0;34m(path, grayscale, color_mode, target_size, interpolation)\u001b[0m\n\u001b[1;32m    111\u001b[0m         raise ImportError('Could not import PIL.Image. '\n\u001b[1;32m    112\u001b[0m                           'The use of `load_img` requires PIL.')\n\u001b[0;32m--> 113\u001b[0;31m     \u001b[0;32mwith\u001b[0m \u001b[0mopen\u001b[0m\u001b[0;34m(\u001b[0m\u001b[0mpath\u001b[0m\u001b[0;34m,\u001b[0m \u001b[0;34m'rb'\u001b[0m\u001b[0;34m)\u001b[0m \u001b[0;32mas\u001b[0m \u001b[0mf\u001b[0m\u001b[0;34m:\u001b[0m\u001b[0;34m\u001b[0m\u001b[0;34m\u001b[0m\u001b[0m\n\u001b[0m\u001b[1;32m    114\u001b[0m         \u001b[0mimg\u001b[0m \u001b[0;34m=\u001b[0m \u001b[0mpil_image\u001b[0m\u001b[0;34m.\u001b[0m\u001b[0mopen\u001b[0m\u001b[0;34m(\u001b[0m\u001b[0mio\u001b[0m\u001b[0;34m.\u001b[0m\u001b[0mBytesIO\u001b[0m\u001b[0;34m(\u001b[0m\u001b[0mf\u001b[0m\u001b[0;34m.\u001b[0m\u001b[0mread\u001b[0m\u001b[0;34m(\u001b[0m\u001b[0;34m)\u001b[0m\u001b[0;34m)\u001b[0m\u001b[0;34m)\u001b[0m\u001b[0;34m\u001b[0m\u001b[0;34m\u001b[0m\u001b[0m\n\u001b[1;32m    115\u001b[0m         \u001b[0;32mif\u001b[0m \u001b[0mcolor_mode\u001b[0m \u001b[0;34m==\u001b[0m \u001b[0;34m'grayscale'\u001b[0m\u001b[0;34m:\u001b[0m\u001b[0;34m\u001b[0m\u001b[0;34m\u001b[0m\u001b[0m\n",
            "\u001b[0;31mFileNotFoundError\u001b[0m: [Errno 2] No such file or directory: '/content/AJPom_cancer_data/dataset/test/cancer/Cancer_edit_A_15.jpg'"
          ]
        }
      ]
    },
    {
      "cell_type": "markdown",
      "metadata": {
        "id": "UVKP9rhNBM_Y"
      },
      "source": [
        "#### Cancer 2"
      ]
    },
    {
      "cell_type": "code",
      "metadata": {
        "id": "8JzOxu1R-ffk"
      },
      "source": [
        "cancer2_img = '/content/AJPom_cancer_data/dataset/test/cancer/Cancer_edit_A_73.jpg' "
      ],
      "execution_count": null,
      "outputs": []
    },
    {
      "cell_type": "code",
      "metadata": {
        "id": "JaN89IUZAI_U"
      },
      "source": [
        "gradcam, gb, guided_gradcam = compute_saliency(test_model, test_model, cancer2_img, layer_name=last_conv2d)"
      ],
      "execution_count": null,
      "outputs": []
    },
    {
      "cell_type": "markdown",
      "metadata": {
        "id": "EnOOOyV_BU1j"
      },
      "source": [
        "#### Cancer 3"
      ]
    },
    {
      "cell_type": "code",
      "metadata": {
        "id": "ZKqgO-ZhAoM_"
      },
      "source": [
        "cancer3_img = '/content/AJPom_cancer_data/dataset/test/cancer/Cancer_edit_A_92.jpg' "
      ],
      "execution_count": null,
      "outputs": []
    },
    {
      "cell_type": "code",
      "metadata": {
        "id": "smVux1RaAoNA"
      },
      "source": [
        "gradcam, gb, guided_gradcam = compute_saliency(test_model, test_model, cancer3_img, layer_name=last_conv2d)"
      ],
      "execution_count": null,
      "outputs": []
    },
    {
      "cell_type": "markdown",
      "metadata": {
        "id": "xQSd7XXABckZ"
      },
      "source": [
        "### Normal"
      ]
    },
    {
      "cell_type": "markdown",
      "metadata": {
        "id": "K-pGPwjRBeE-"
      },
      "source": [
        "#### Normal 1"
      ]
    },
    {
      "cell_type": "code",
      "metadata": {
        "id": "g09ooI1TAuMX"
      },
      "source": [
        "normal1_img = '/content/AJPom_cancer_data/dataset/test/normal/normal-81_augment1.jpg' "
      ],
      "execution_count": null,
      "outputs": []
    },
    {
      "cell_type": "code",
      "metadata": {
        "id": "QPuj9aXvBpN7"
      },
      "source": [
        "gradcam, gb, guided_gradcam = compute_saliency(test_model, test_model, normal1_img, layer_name=last_conv2d)"
      ],
      "execution_count": null,
      "outputs": []
    },
    {
      "cell_type": "markdown",
      "metadata": {
        "id": "EpfWoThIBhKx"
      },
      "source": [
        "#### Normal 2"
      ]
    },
    {
      "cell_type": "code",
      "metadata": {
        "id": "mJ-1KNyfBs-9"
      },
      "source": [
        "normal2_img = '/content/AJPom_cancer_data/dataset/test/normal/normal-81.jpg' "
      ],
      "execution_count": null,
      "outputs": []
    },
    {
      "cell_type": "code",
      "metadata": {
        "id": "lPlNLC3wBs_J"
      },
      "source": [
        "gradcam, gb, guided_gradcam = compute_saliency(test_model, test_model, normal2_img, layer_name=last_conv2d)"
      ],
      "execution_count": null,
      "outputs": []
    },
    {
      "cell_type": "markdown",
      "metadata": {
        "id": "dMd60VOiBjba"
      },
      "source": [
        "#### Normal 3"
      ]
    },
    {
      "cell_type": "code",
      "metadata": {
        "id": "4lji6MJABtJu"
      },
      "source": [
        "normal3_img = '/content/AJPom_cancer_data/dataset/test/normal/normal-5.jpg' "
      ],
      "execution_count": null,
      "outputs": []
    },
    {
      "cell_type": "code",
      "metadata": {
        "id": "U96UMS7BBtJu"
      },
      "source": [
        "gradcam, gb, guided_gradcam = compute_saliency(test_model, test_model, normal3_img, layer_name=last_conv2d)"
      ],
      "execution_count": null,
      "outputs": []
    }
  ]
}